{
  "nbformat": 4,
  "nbformat_minor": 0,
  "metadata": {
    "colab": {
      "name": "Without_SMOTE.ipynb",
      "provenance": [],
      "collapsed_sections": [],
      "authorship_tag": "ABX9TyPiVhviyYhrwV7xEdb4zvs1",
      "include_colab_link": true
    },
    "kernelspec": {
      "name": "python3",
      "display_name": "Python 3"
    }
  },
  "cells": [
    {
      "cell_type": "markdown",
      "metadata": {
        "id": "view-in-github",
        "colab_type": "text"
      },
      "source": [
        "<a href=\"https://colab.research.google.com/github/Soumyajit567/Twitter_Analysis_for_Class_Imbalance/blob/master/Without_SMOTE.ipynb\" target=\"_parent\"><img src=\"https://colab.research.google.com/assets/colab-badge.svg\" alt=\"Open In Colab\"/></a>"
      ]
    },
    {
      "cell_type": "code",
      "metadata": {
        "id": "-LkWHIX-a4UU",
        "colab_type": "code",
        "colab": {
          "base_uri": "https://localhost:8080/",
          "height": 689
        },
        "outputId": "7ddaa37b-72fe-4bb3-a4f4-ee8ca9914c7b"
      },
      "source": [
        "import tweepy\n",
        "from textblob import TextBlob\n",
        "consumer_key = 'HOXs6dN9UApOrjdP3sDG8q7Bx'\n",
        "consumer_secret = 'TzR3sATRX2FwL61Qhro1d4KenvLhKuCvYNS5OKzmxeK7HRkRg2'\n",
        "access_token = '1301245220416188416-DvgyzLiFkYDfdozX0Afl2WR8eItktR'\n",
        "access_token_secret = 'ZjeOuGzFw440IkvbPlKUKshONinTU136UVU9twyG5cUhJ'\n",
        "auth = tweepy.OAuthHandler(consumer_key,consumer_secret)\n",
        "auth.set_access_token(access_token,access_token_secret)\n",
        "api = tweepy.API(auth)\n",
        "public_tweets = api.search('Coronavirus')\n",
        "for tweets in public_tweets:\n",
        "    print(tweets.text)\n",
        "    analysis = TextBlob(tweets.text)\n",
        "    print(analysis.sentiment)"
      ],
      "execution_count": 1,
      "outputs": [
        {
          "output_type": "stream",
          "text": [
            "Coronavirus:sindaco Orgosolo chiude bar e ristoranti alle 22. Due nuovi positivi Gavoi, Municipio off limits #ANSA https://t.co/lpuwXoE878\n",
            "Sentiment(polarity=-0.125, subjectivity=0.375)\n",
            "RT @donmoyn: The USPS had a plan to send 5 reusable facemarks to every household in early April. Even had a press release ready.\n",
            "\n",
            "The White…\n",
            "Sentiment(polarity=0.15000000000000002, subjectivity=0.4)\n",
            "RT @StillDelvingH: Man ”took the afternoon off work unpaid to make a 100-mile round trip to a site on an out-of-town business park but foun…\n",
            "Sentiment(polarity=0.0, subjectivity=0.4)\n",
            "RT @gavinesler: Ooops - it appears that some of us peasants have annoyed Mr Rees-Mogg by suggesting that after 7 months of coronavirus prom…\n",
            "Sentiment(polarity=-0.4, subjectivity=0.8)\n",
            "RT @prodigalbum: Dido Harding is saying that no-one could have foreseen the increase in demand for coronavirus testing.\n",
            "\n",
            "During a pandemic.…\n",
            "Sentiment(polarity=0.0, subjectivity=0.0)\n",
            "RT @BBCWorld: Latest data from the World Health Organization shows more than five million confirmed coronavirus cases and more than 228,000…\n",
            "Sentiment(polarity=0.475, subjectivity=0.725)\n",
            "RT @LadyWoodOfLdn: What fucking planet is this over-privileged twat living on?? https://t.co/cYB8IQ6QRB\n",
            "Sentiment(polarity=-0.6, subjectivity=0.8)\n",
            "Coronavirus dans le monde : un niveau de transmission « alarmant » en Europe ; Israël de nouveau confiné — via ⁦… https://t.co/OHLmsPGpoF\n",
            "Sentiment(polarity=0.0, subjectivity=0.0)\n",
            "Biden responds to Trump saying he did not implement mask mandate: ‘I’m not the president’ https://t.co/20j9Du0091 via @msnbc\n",
            "Sentiment(polarity=0.0, subjectivity=0.0)\n",
            "RT @MaryDenise22: They wont be happy till we are pushing up daisys in the churchyard 😢\n",
            "\n",
            "https://t.co/8rIpsnsFEC\n",
            "Sentiment(polarity=0.8, subjectivity=1.0)\n",
            "Coronavirus. Dans quelles conditions remettre son enfant à l’école ? On vous répond en direct  https://t.co/hjWrwYv4jZ\n",
            "Sentiment(polarity=0.1, subjectivity=0.4)\n",
            "RT @CNBC: Airline execs including American’s Doug Parker and Southwest’s Gary Kelly are meeting at the White House today, calling for addit…\n",
            "Sentiment(polarity=0.0, subjectivity=0.0)\n",
            "RT @FacundoSavala: RT if you think @NicolaSturgeon is playing politics with this pandemic, and has been from the very start. ✅\n",
            "\n",
            "https://t.c…\n",
            "Sentiment(polarity=0.2, subjectivity=0.3)\n",
            "RT @LRsecreta: El vicepresidente de la Comunidad de Madrid, Ignacio Aguado, reconoce que ya que es \"imposible\" frenar la pandemia del coron…\n",
            "Sentiment(polarity=0.0, subjectivity=0.0)\n",
            "RT @DocteurMaboul6: @medicalfollower Je dirais plutôt que le nombre d'infectés comptés au printemps est très éloigné du nombre réel.\n",
            "\n",
            "Ce co…\n",
            "Sentiment(polarity=0.0, subjectivity=0.0)\n"
          ],
          "name": "stdout"
        }
      ]
    },
    {
      "cell_type": "code",
      "metadata": {
        "id": "0t5jQy3pa840",
        "colab_type": "code",
        "colab": {
          "base_uri": "https://localhost:8080/",
          "height": 34
        },
        "outputId": "0d79f8ad-b01b-4a22-f51c-9fb86ac72232"
      },
      "source": [
        "def get_tweet_sentiment(self, tweet):\n",
        "   # create TextBlob object of passed tweet text\n",
        "   analysis = TextBlob(self.trim_tweet(tweet))\n",
        "   # set sentiment\n",
        "   if analysis.sentiment.polarity > 0:\n",
        "      return 'positive'\n",
        "   elif analysis.sentiment.polarity == 0:\n",
        "      return 'neutral'\n",
        "   else:\n",
        "      return 'negative'\n",
        "print(get_tweet_sentiment)"
      ],
      "execution_count": 2,
      "outputs": [
        {
          "output_type": "stream",
          "text": [
            "<function get_tweet_sentiment at 0x7fcb0a0868c8>\n"
          ],
          "name": "stdout"
        }
      ]
    },
    {
      "cell_type": "code",
      "metadata": {
        "id": "jSglunaybEaa",
        "colab_type": "code",
        "colab": {}
      },
      "source": [
        "from plotly import __version__\n",
        "import numpy as np\n",
        "import pandas as pd\n",
        "import sklearn\n",
        "import matplotlib.pyplot as plt\n",
        "from sklearn.feature_extraction.text import CountVectorizer\n",
        "from sklearn.metrics import confusion_matrix\n",
        "from sklearn.model_selection import GridSearchCV\n",
        "from sklearn.model_selection import train_test_split\n",
        "from sklearn.model_selection import cross_val_score\n",
        "from sklearn.linear_model import LogisticRegression\n",
        "from sklearn.naive_bayes import MultinomialNB\n",
        "from sklearn.naive_bayes import MultinomialNB\n",
        "from sklearn.ensemble import RandomForestClassifier"
      ],
      "execution_count": 3,
      "outputs": []
    },
    {
      "cell_type": "code",
      "metadata": {
        "id": "2Fib17FFbK99",
        "colab_type": "code",
        "colab": {
          "base_uri": "https://localhost:8080/",
          "height": 84
        },
        "outputId": "0c681903-fe15-4bc8-9acf-700d8b0d812c"
      },
      "source": [
        "import os\n",
        "import pandas as pd\n",
        "import matplotlib.pyplot as plt\n",
        "import seaborn as sns\n",
        "import itertools\n",
        "import collections\n",
        "\n",
        "import tweepy as tw\n",
        "import nltk\n",
        "from nltk.corpus import stopwords\n",
        "import re\n",
        "import networkx\n",
        "\n",
        "import warnings\n",
        "warnings.filterwarnings(\"ignore\")\n",
        "\n",
        "sns.set(font_scale=1.5)\n",
        "sns.set_style(\"whitegrid\")"
      ],
      "execution_count": 4,
      "outputs": [
        {
          "output_type": "stream",
          "text": [
            "/usr/local/lib/python3.6/dist-packages/statsmodels/tools/_testing.py:19: FutureWarning:\n",
            "\n",
            "pandas.util.testing is deprecated. Use the functions in the public API at pandas.testing instead.\n",
            "\n"
          ],
          "name": "stderr"
        }
      ]
    },
    {
      "cell_type": "code",
      "metadata": {
        "id": "-RO9yMZsbO9G",
        "colab_type": "code",
        "colab": {}
      },
      "source": [
        "consumer_key = 'HOXs6dN9UApOrjdP3sDG8q7Bx'\n",
        "consumer_secret = 'TzR3sATRX2FwL61Qhro1d4KenvLhKuCvYNS5OKzmxeK7HRkRg2'\n",
        "access_token = '1301245220416188416-DvgyzLiFkYDfdozX0Afl2WR8eItktR'\n",
        "access_token_secret = 'ZjeOuGzFw440IkvbPlKUKshONinTU136UVU9twyG5cUhJ'"
      ],
      "execution_count": 5,
      "outputs": []
    },
    {
      "cell_type": "code",
      "metadata": {
        "id": "zgzCCDFObUIB",
        "colab_type": "code",
        "colab": {}
      },
      "source": [
        "\n",
        "auth = tw.OAuthHandler(consumer_key, consumer_secret)\n",
        "auth.set_access_token(access_token, access_token_secret)\n",
        "api = tw.API(auth, wait_on_rate_limit=True)"
      ],
      "execution_count": 6,
      "outputs": []
    },
    {
      "cell_type": "code",
      "metadata": {
        "id": "b_-dIaRgbWaU",
        "colab_type": "code",
        "colab": {}
      },
      "source": [
        "\n",
        "import tweepy as tw\n",
        "import os\n",
        "import pandas as pd\n",
        "import matplotlib.pyplot as plt\n",
        "import seaborn as sns\n",
        "import itertools\n",
        "import collections\n",
        "\n",
        "import tweepy as tw\n",
        "import nltk\n",
        "from nltk.corpus import stopwords\n",
        "import re\n",
        "import networkx\n",
        "import warnings\n",
        "warnings.filterwarnings(\"ignore\")"
      ],
      "execution_count": 7,
      "outputs": []
    },
    {
      "cell_type": "code",
      "metadata": {
        "id": "L54w4p_XbaJe",
        "colab_type": "code",
        "colab": {
          "base_uri": "https://localhost:8080/",
          "height": 101
        },
        "outputId": "549b6366-31c1-4076-c2ad-0924cdd2592f"
      },
      "source": [
        "\n",
        "sns.set(font_scale=1.5)\n",
        "sns.set_style(\"whitegrid\")\n",
        "search_term = \"#coronavirus+covid+india -filter:retweets\"\n",
        "\n",
        "tweets = tweepy.Cursor(api.search,\n",
        "                   q=search_term,\n",
        "                   lang=\"en\",\n",
        "                   since='2020-06-01').items(1000)\n",
        "\n",
        "all_tweets = [tweet.text for tweet in tweets]\n",
        "\n",
        "all_tweets[:5]"
      ],
      "execution_count": 8,
      "outputs": [
        {
          "output_type": "execute_result",
          "data": {
            "text/plain": [
              "['After Spotting “Covid-Positive” Passengers, Air India Flights Suspended In Dubai\\n#AirIndia #Covid19 #Coronavirus… https://t.co/Oz1eTO0DFI',\n",
              " '🔷A retired virologist says that India is undercounting covid deaths.\\n🔷The debate about attack on dissent continues… https://t.co/lD6VLcGvBK',\n",
              " 'The Indian Medical Association (IMA) has accused the Centre of showing indifference to the contribution of doctors… https://t.co/ewWjuIkfR3',\n",
              " 'The Indian Medical Association provided the list of doctors after MoHFW said it had no data on health workers who d… https://t.co/ZJibGtai6O',\n",
              " 'Maharashtra Energy Minister Nitin Raut on Friday tested positive for COVID-19......#minister #energyminister… https://t.co/0SsRu8x8wa']"
            ]
          },
          "metadata": {
            "tags": []
          },
          "execution_count": 8
        }
      ]
    },
    {
      "cell_type": "code",
      "metadata": {
        "id": "5T18uGeXbdTU",
        "colab_type": "code",
        "colab": {}
      },
      "source": [
        "def remove_url(txt):\n",
        "    \"\"\"Replace URLs found in a text string with nothing \n",
        "    (i.e. it will remove the URL from the string).\n",
        "\n",
        "    Parameters\n",
        "    ----------\n",
        "    txt : string\n",
        "        A text string that you want to parse and remove urls.\n",
        "\n",
        "    Returns\n",
        "    -------\n",
        "    The same txt string with url's removed.\n",
        "    \"\"\"\n",
        "\n",
        "    return \" \".join(re.sub(\"([^0-9A-Za-z \\t])|(\\w+:\\/\\/\\S+)\", \"\", txt).split())"
      ],
      "execution_count": 9,
      "outputs": []
    },
    {
      "cell_type": "code",
      "metadata": {
        "id": "FPPhpd79bhr4",
        "colab_type": "code",
        "colab": {
          "base_uri": "https://localhost:8080/",
          "height": 101
        },
        "outputId": "fdc1c9d2-25eb-43d5-af0c-ba59a8f3a70b"
      },
      "source": [
        "\n",
        "all_tweets_no_urls = [remove_url(tweet) for tweet in all_tweets]\n",
        "all_tweets_no_urls[:5]"
      ],
      "execution_count": 10,
      "outputs": [
        {
          "output_type": "execute_result",
          "data": {
            "text/plain": [
              "['After Spotting CovidPositive Passengers Air India Flights Suspended In DubaiAirIndia Covid19 Coronavirus',\n",
              " 'A retired virologist says that India is undercounting covid deathsThe debate about attack on dissent continues',\n",
              " 'The Indian Medical Association IMA has accused the Centre of showing indifference to the contribution of doctors',\n",
              " 'The Indian Medical Association provided the list of doctors after MoHFW said it had no data on health workers who d',\n",
              " 'Maharashtra Energy Minister Nitin Raut on Friday tested positive for COVID19minister energyminister']"
            ]
          },
          "metadata": {
            "tags": []
          },
          "execution_count": 10
        }
      ]
    },
    {
      "cell_type": "code",
      "metadata": {
        "id": "iQpL0RmgblSH",
        "colab_type": "code",
        "colab": {
          "base_uri": "https://localhost:8080/",
          "height": 34
        },
        "outputId": "30d8671b-d44a-4ab3-ac89-8a24617f4b2b"
      },
      "source": [
        "import pandas as pd\n",
        "# Note how capitalization impacts unique returned values\n",
        "ex_list = [\"coronavirus\", \"covid 19\", \"Coronavirus\", \"COVID 19\", \"corona\", \"Corona\"]\n",
        "\n",
        "# Get unique elements in the list\n",
        "set(ex_list)"
      ],
      "execution_count": 11,
      "outputs": [
        {
          "output_type": "execute_result",
          "data": {
            "text/plain": [
              "{'COVID 19', 'Corona', 'Coronavirus', 'corona', 'coronavirus', 'covid 19'}"
            ]
          },
          "metadata": {
            "tags": []
          },
          "execution_count": 11
        }
      ]
    },
    {
      "cell_type": "code",
      "metadata": {
        "id": "hPzYF7LMbpZA",
        "colab_type": "code",
        "colab": {
          "base_uri": "https://localhost:8080/",
          "height": 34
        },
        "outputId": "c1dae91e-f389-456e-fb43-84207debd26d"
      },
      "source": [
        "# Note how capitalization impacts unique returned values\n",
        "words_list = [\"coronavirus\", \"covid 19\", \"Coronavirus\", \"COVID 19\", \"corona\", \"Corona\"]\n",
        "\n",
        "# Make all elements in the list lowercase\n",
        "lower_case = [word.lower() for word in words_list]\n",
        "\n",
        "# Get all elements in the list\n",
        "lower_case"
      ],
      "execution_count": 12,
      "outputs": [
        {
          "output_type": "execute_result",
          "data": {
            "text/plain": [
              "['coronavirus', 'covid 19', 'coronavirus', 'covid 19', 'corona', 'corona']"
            ]
          },
          "metadata": {
            "tags": []
          },
          "execution_count": 12
        }
      ]
    },
    {
      "cell_type": "markdown",
      "metadata": {
        "id": "evP19kSQbwPW",
        "colab_type": "text"
      },
      "source": [
        "**Bag of Words**"
      ]
    },
    {
      "cell_type": "code",
      "metadata": {
        "id": "8hHRN0Stbtel",
        "colab_type": "code",
        "colab": {}
      },
      "source": [
        "import pandas as pd\n",
        "import numpy as np\n",
        "import re\n",
        "import nltk\n",
        "import tensorflow as tf\n",
        "from nltk.corpus import stopwords\n",
        "from google.colab import drive\n",
        "from numpy import array\n",
        "from keras.preprocessing.text import one_hot\n",
        "from keras.preprocessing.sequence import pad_sequences\n",
        "from keras.models import Sequential\n",
        "from keras.layers.core import Activation, Dropout, Dense\n",
        "from keras.layers import Flatten\n",
        "from keras.layers import GlobalMaxPooling1D\n",
        "from keras.layers.embeddings import Embedding\n",
        "from sklearn.model_selection import train_test_split\n",
        "from keras.preprocessing.text import Tokenizer"
      ],
      "execution_count": 13,
      "outputs": []
    },
    {
      "cell_type": "code",
      "metadata": {
        "id": "B2wIFWjvb1cI",
        "colab_type": "code",
        "colab": {
          "base_uri": "https://localhost:8080/",
          "height": 34
        },
        "outputId": "d50f5194-718e-4e23-9f91-a330a26536c5"
      },
      "source": [
        "set(lower_case)"
      ],
      "execution_count": 14,
      "outputs": [
        {
          "output_type": "execute_result",
          "data": {
            "text/plain": [
              "{'corona', 'coronavirus', 'covid 19'}"
            ]
          },
          "metadata": {
            "tags": []
          },
          "execution_count": 14
        }
      ]
    },
    {
      "cell_type": "code",
      "metadata": {
        "id": "cO2YL0LOb4wn",
        "colab_type": "code",
        "colab": {
          "base_uri": "https://localhost:8080/",
          "height": 218
        },
        "outputId": "51619aef-16bb-49de-e158-7a7c7e174c19"
      },
      "source": [
        "all_tweets_no_urls[0].split()"
      ],
      "execution_count": 15,
      "outputs": [
        {
          "output_type": "execute_result",
          "data": {
            "text/plain": [
              "['After',\n",
              " 'Spotting',\n",
              " 'CovidPositive',\n",
              " 'Passengers',\n",
              " 'Air',\n",
              " 'India',\n",
              " 'Flights',\n",
              " 'Suspended',\n",
              " 'In',\n",
              " 'DubaiAirIndia',\n",
              " 'Covid19',\n",
              " 'Coronavirus']"
            ]
          },
          "metadata": {
            "tags": []
          },
          "execution_count": 15
        }
      ]
    },
    {
      "cell_type": "code",
      "metadata": {
        "id": "CoZpL9L9b8c1",
        "colab_type": "code",
        "colab": {
          "base_uri": "https://localhost:8080/",
          "height": 487
        },
        "outputId": "996de97e-a80e-47e8-cdb4-bfb4ba129fa0"
      },
      "source": [
        "\n",
        "# Create a list of lists containing lowercase words for each tweet\n",
        "words_in_tweet = [tweet.lower().split() for tweet in all_tweets_no_urls]\n",
        "words_in_tweet[:2]"
      ],
      "execution_count": 16,
      "outputs": [
        {
          "output_type": "execute_result",
          "data": {
            "text/plain": [
              "[['after',\n",
              "  'spotting',\n",
              "  'covidpositive',\n",
              "  'passengers',\n",
              "  'air',\n",
              "  'india',\n",
              "  'flights',\n",
              "  'suspended',\n",
              "  'in',\n",
              "  'dubaiairindia',\n",
              "  'covid19',\n",
              "  'coronavirus'],\n",
              " ['a',\n",
              "  'retired',\n",
              "  'virologist',\n",
              "  'says',\n",
              "  'that',\n",
              "  'india',\n",
              "  'is',\n",
              "  'undercounting',\n",
              "  'covid',\n",
              "  'deathsthe',\n",
              "  'debate',\n",
              "  'about',\n",
              "  'attack',\n",
              "  'on',\n",
              "  'dissent',\n",
              "  'continues']]"
            ]
          },
          "metadata": {
            "tags": []
          },
          "execution_count": 16
        }
      ]
    },
    {
      "cell_type": "code",
      "metadata": {
        "id": "lc0b69wNcGRF",
        "colab_type": "code",
        "colab": {
          "base_uri": "https://localhost:8080/",
          "height": 269
        },
        "outputId": "91564864-72b8-4430-c707-b9b2df7ae55c"
      },
      "source": [
        "# List of all words across tweets\n",
        "all_words_no_urls = list(itertools.chain(*words_in_tweet))\n",
        "\n",
        "# Create counter\n",
        "counts_no_urls = collections.Counter(all_words_no_urls)\n",
        "\n",
        "counts_no_urls.most_common(15)"
      ],
      "execution_count": 17,
      "outputs": [
        {
          "output_type": "execute_result",
          "data": {
            "text/plain": [
              "[('covid19', 554),\n",
              " ('india', 496),\n",
              " ('coronavirus', 455),\n",
              " ('the', 424),\n",
              " ('in', 408),\n",
              " ('cases', 406),\n",
              " ('of', 374),\n",
              " ('to', 288),\n",
              " ('covid', 228),\n",
              " ('a', 158),\n",
              " ('for', 145),\n",
              " ('and', 130),\n",
              " ('new', 125),\n",
              " ('indias', 118),\n",
              " ('with', 103)]"
            ]
          },
          "metadata": {
            "tags": []
          },
          "execution_count": 17
        }
      ]
    },
    {
      "cell_type": "code",
      "metadata": {
        "id": "kFiF9q3GcJxt",
        "colab_type": "code",
        "colab": {
          "base_uri": "https://localhost:8080/",
          "height": 195
        },
        "outputId": "9eef4bce-7043-40bf-d1c8-bfe9bc629a53"
      },
      "source": [
        "\n",
        "clean_tweets_no_urls = pd.DataFrame(counts_no_urls.most_common(15),\n",
        "                             columns=['words', 'count'])\n",
        "\n",
        "clean_tweets_no_urls.head()"
      ],
      "execution_count": 18,
      "outputs": [
        {
          "output_type": "execute_result",
          "data": {
            "text/html": [
              "<div>\n",
              "<style scoped>\n",
              "    .dataframe tbody tr th:only-of-type {\n",
              "        vertical-align: middle;\n",
              "    }\n",
              "\n",
              "    .dataframe tbody tr th {\n",
              "        vertical-align: top;\n",
              "    }\n",
              "\n",
              "    .dataframe thead th {\n",
              "        text-align: right;\n",
              "    }\n",
              "</style>\n",
              "<table border=\"1\" class=\"dataframe\">\n",
              "  <thead>\n",
              "    <tr style=\"text-align: right;\">\n",
              "      <th></th>\n",
              "      <th>words</th>\n",
              "      <th>count</th>\n",
              "    </tr>\n",
              "  </thead>\n",
              "  <tbody>\n",
              "    <tr>\n",
              "      <th>0</th>\n",
              "      <td>covid19</td>\n",
              "      <td>554</td>\n",
              "    </tr>\n",
              "    <tr>\n",
              "      <th>1</th>\n",
              "      <td>india</td>\n",
              "      <td>496</td>\n",
              "    </tr>\n",
              "    <tr>\n",
              "      <th>2</th>\n",
              "      <td>coronavirus</td>\n",
              "      <td>455</td>\n",
              "    </tr>\n",
              "    <tr>\n",
              "      <th>3</th>\n",
              "      <td>the</td>\n",
              "      <td>424</td>\n",
              "    </tr>\n",
              "    <tr>\n",
              "      <th>4</th>\n",
              "      <td>in</td>\n",
              "      <td>408</td>\n",
              "    </tr>\n",
              "  </tbody>\n",
              "</table>\n",
              "</div>"
            ],
            "text/plain": [
              "         words  count\n",
              "0      covid19    554\n",
              "1        india    496\n",
              "2  coronavirus    455\n",
              "3          the    424\n",
              "4           in    408"
            ]
          },
          "metadata": {
            "tags": []
          },
          "execution_count": 18
        }
      ]
    },
    {
      "cell_type": "code",
      "metadata": {
        "id": "HBDAzoKjcLMH",
        "colab_type": "code",
        "colab": {
          "base_uri": "https://localhost:8080/",
          "height": 513
        },
        "outputId": "eb8f0d5c-3778-4f72-e54b-da1584d4fd17"
      },
      "source": [
        "\n",
        "fig, ax = plt.subplots(figsize=(8, 8))\n",
        "\n",
        "# Plot horizontal bar graph\n",
        "clean_tweets_no_urls.sort_values(by='count').plot.barh(x='words',\n",
        "                      y='count',\n",
        "                      ax=ax,\n",
        "                      color=\"purple\")\n",
        "\n",
        "ax.set_title(\"Common Words Found in Tweets (Including All Words)\")\n",
        "\n",
        "plt.show()"
      ],
      "execution_count": 19,
      "outputs": [
        {
          "output_type": "display_data",
          "data": {
            "image/png": "[encoded data removed]",
            "text/plain": [
              "<Figure size 576x576 with 1 Axes>"
            ]
          },
          "metadata": {
            "tags": []
          }
        }
      ]
    },
    {
      "cell_type": "code",
      "metadata": {
        "id": "gRRWN8aYcO2o",
        "colab_type": "code",
        "colab": {
          "base_uri": "https://localhost:8080/",
          "height": 67
        },
        "outputId": "822cda32-b458-41c8-97ff-471c43a4e9a8"
      },
      "source": [
        "\n",
        "nltk.download('stopwords')"
      ],
      "execution_count": 20,
      "outputs": [
        {
          "output_type": "stream",
          "text": [
            "[nltk_data] Downloading package stopwords to /root/nltk_data...\n",
            "[nltk_data]   Unzipping corpora/stopwords.zip.\n"
          ],
          "name": "stdout"
        },
        {
          "output_type": "execute_result",
          "data": {
            "text/plain": [
              "True"
            ]
          },
          "metadata": {
            "tags": []
          },
          "execution_count": 20
        }
      ]
    },
    {
      "cell_type": "code",
      "metadata": {
        "id": "vmwEJT7IdLvk",
        "colab_type": "code",
        "colab": {
          "base_uri": "https://localhost:8080/",
          "height": 34
        },
        "outputId": "09428887-1f41-4ff2-defe-191c02f31df5"
      },
      "source": [
        "\n",
        "stop_words = set(stopwords.words('english'))\n",
        "\n",
        "# View a few words from the set\n",
        "list(stop_words)[0:10]"
      ],
      "execution_count": 21,
      "outputs": [
        {
          "output_type": "execute_result",
          "data": {
            "text/plain": [
              "['is', 'then', 'they', 'needn', 'all', 'more', 'isn', 'wasn', 'i', 'same']"
            ]
          },
          "metadata": {
            "tags": []
          },
          "execution_count": 21
        }
      ]
    },
    {
      "cell_type": "code",
      "metadata": {
        "id": "0JOEFW6ndP0M",
        "colab_type": "code",
        "colab": {
          "base_uri": "https://localhost:8080/",
          "height": 218
        },
        "outputId": "6a99fa1d-8ccc-4ac9-f478-7f74e7a3272d"
      },
      "source": [
        "\n",
        "words_in_tweet[0]"
      ],
      "execution_count": 22,
      "outputs": [
        {
          "output_type": "execute_result",
          "data": {
            "text/plain": [
              "['after',\n",
              " 'spotting',\n",
              " 'covidpositive',\n",
              " 'passengers',\n",
              " 'air',\n",
              " 'india',\n",
              " 'flights',\n",
              " 'suspended',\n",
              " 'in',\n",
              " 'dubaiairindia',\n",
              " 'covid19',\n",
              " 'coronavirus']"
            ]
          },
          "metadata": {
            "tags": []
          },
          "execution_count": 22
        }
      ]
    },
    {
      "cell_type": "code",
      "metadata": {
        "id": "aqVj4ib3dS39",
        "colab_type": "code",
        "colab": {
          "base_uri": "https://localhost:8080/",
          "height": 185
        },
        "outputId": "08eaa15f-8e98-4662-f843-3508b8b2e480"
      },
      "source": [
        "for all_words in words_in_tweet:\n",
        "    for a_word in all_words:\n",
        "        # remove stop words\n",
        "        # Remove stop words from each tweet list of words\n",
        "     tweets_nsw = [[word for word in tweet_words if not word in stop_words]\n",
        "              for tweet_words in words_in_tweet]\n",
        "\n",
        "tweets_nsw[0]"
      ],
      "execution_count": 23,
      "outputs": [
        {
          "output_type": "execute_result",
          "data": {
            "text/plain": [
              "['spotting',\n",
              " 'covidpositive',\n",
              " 'passengers',\n",
              " 'air',\n",
              " 'india',\n",
              " 'flights',\n",
              " 'suspended',\n",
              " 'dubaiairindia',\n",
              " 'covid19',\n",
              " 'coronavirus']"
            ]
          },
          "metadata": {
            "tags": []
          },
          "execution_count": 23
        }
      ]
    },
    {
      "cell_type": "code",
      "metadata": {
        "id": "yhteLpyFdZaE",
        "colab_type": "code",
        "colab": {
          "base_uri": "https://localhost:8080/",
          "height": 269
        },
        "outputId": "f33ccfc7-60b9-4fed-e401-6c05ff3048f4"
      },
      "source": [
        "all_words_nsw = list(itertools.chain(*tweets_nsw))\n",
        "\n",
        "counts_nsw = collections.Counter(all_words_nsw)\n",
        "\n",
        "counts_nsw.most_common(15)"
      ],
      "execution_count": 24,
      "outputs": [
        {
          "output_type": "execute_result",
          "data": {
            "text/plain": [
              "[('covid19', 554),\n",
              " ('india', 496),\n",
              " ('coronavirus', 455),\n",
              " ('cases', 406),\n",
              " ('covid', 228),\n",
              " ('new', 125),\n",
              " ('indias', 118),\n",
              " ('tally', 94),\n",
              " ('vaccine', 90),\n",
              " ('corona', 83),\n",
              " ('deaths', 79),\n",
              " ('lakh', 79),\n",
              " ('million', 75),\n",
              " ('updates', 75),\n",
              " ('china', 63)]"
            ]
          },
          "metadata": {
            "tags": []
          },
          "execution_count": 24
        }
      ]
    },
    {
      "cell_type": "code",
      "metadata": {
        "id": "O7YZ6Cobde2k",
        "colab_type": "code",
        "colab": {
          "base_uri": "https://localhost:8080/",
          "height": 513
        },
        "outputId": "328d91fd-5156-49f4-dd8b-eb440172b0ea"
      },
      "source": [
        "clean_tweets_nsw = pd.DataFrame(counts_nsw.most_common(15),\n",
        "                             columns=['words', 'count'])\n",
        "\n",
        "fig, ax = plt.subplots(figsize=(8, 8))\n",
        "\n",
        "# Plot horizontal bar graph\n",
        "clean_tweets_nsw.sort_values(by='count').plot.barh(x='words',\n",
        "                      y='count',\n",
        "                      ax=ax,\n",
        "                      color=\"purple\")\n",
        "\n",
        "ax.set_title(\"Common Words Found in Tweets (Without Stop Words)\")\n",
        "\n",
        "plt.show()"
      ],
      "execution_count": 25,
      "outputs": [
        {
          "output_type": "display_data",
          "data": {
            "image/png": "[encoded data removed]",
            "text/plain": [
              "<Figure size 576x576 with 1 Axes>"
            ]
          },
          "metadata": {
            "tags": []
          }
        }
      ]
    },
    {
      "cell_type": "code",
      "metadata": {
        "id": "dxRrTEvldiec",
        "colab_type": "code",
        "colab": {}
      },
      "source": [
        "collection_words = ['covid 19', 'coronavirus', 'india']"
      ],
      "execution_count": 26,
      "outputs": []
    },
    {
      "cell_type": "code",
      "metadata": {
        "id": "UA9oqZ_OdpUT",
        "colab_type": "code",
        "colab": {}
      },
      "source": [
        "tweets_nsw_nc = [[w for w in word if not w in collection_words]\n",
        "                 for word in tweets_nsw]"
      ],
      "execution_count": 27,
      "outputs": []
    },
    {
      "cell_type": "code",
      "metadata": {
        "id": "Wc00wlB_dq7K",
        "colab_type": "code",
        "colab": {
          "base_uri": "https://localhost:8080/",
          "height": 151
        },
        "outputId": "b2ab89db-bf95-4fd9-ca47-3033f5f64d2d"
      },
      "source": [
        "tweets_nsw_nc[0]"
      ],
      "execution_count": 28,
      "outputs": [
        {
          "output_type": "execute_result",
          "data": {
            "text/plain": [
              "['spotting',\n",
              " 'covidpositive',\n",
              " 'passengers',\n",
              " 'air',\n",
              " 'flights',\n",
              " 'suspended',\n",
              " 'dubaiairindia',\n",
              " 'covid19']"
            ]
          },
          "metadata": {
            "tags": []
          },
          "execution_count": 28
        }
      ]
    },
    {
      "cell_type": "code",
      "metadata": {
        "id": "7UAg7TO8dt0m",
        "colab_type": "code",
        "colab": {
          "base_uri": "https://localhost:8080/",
          "height": 269
        },
        "outputId": "337863ab-28d8-4905-aa4a-96e08e360350"
      },
      "source": [
        "# Flatten list of words in clean tweets\n",
        "all_words_nsw_nc = list(itertools.chain(*tweets_nsw_nc))\n",
        "\n",
        "# Create counter of words in clean tweets\n",
        "counts_nsw_nc = collections.Counter(all_words_nsw_nc)\n",
        "\n",
        "counts_nsw_nc.most_common(15)"
      ],
      "execution_count": 29,
      "outputs": [
        {
          "output_type": "execute_result",
          "data": {
            "text/plain": [
              "[('covid19', 554),\n",
              " ('cases', 406),\n",
              " ('covid', 228),\n",
              " ('new', 125),\n",
              " ('indias', 118),\n",
              " ('tally', 94),\n",
              " ('vaccine', 90),\n",
              " ('corona', 83),\n",
              " ('deaths', 79),\n",
              " ('lakh', 79),\n",
              " ('million', 75),\n",
              " ('updates', 75),\n",
              " ('china', 63),\n",
              " ('19', 60),\n",
              " ('positive', 55)]"
            ]
          },
          "metadata": {
            "tags": []
          },
          "execution_count": 29
        }
      ]
    },
    {
      "cell_type": "code",
      "metadata": {
        "id": "0H1T6Z0fdxbs",
        "colab_type": "code",
        "colab": {
          "base_uri": "https://localhost:8080/",
          "height": 34
        },
        "outputId": "906f1835-fb2d-4db3-fbef-872ea21d703a"
      },
      "source": [
        "len(counts_nsw_nc)"
      ],
      "execution_count": 30,
      "outputs": [
        {
          "output_type": "execute_result",
          "data": {
            "text/plain": [
              "3192"
            ]
          },
          "metadata": {
            "tags": []
          },
          "execution_count": 30
        }
      ]
    },
    {
      "cell_type": "code",
      "metadata": {
        "id": "Jvw9UelAd3Hk",
        "colab_type": "code",
        "colab": {
          "base_uri": "https://localhost:8080/",
          "height": 195
        },
        "outputId": "c226e61a-6332-40dc-da30-bd47abf6b953"
      },
      "source": [
        "\n",
        "clean_tweets_ncw = pd.DataFrame(counts_nsw_nc.most_common(15),\n",
        "                             columns=['words', 'count'])\n",
        "clean_tweets_ncw.head()"
      ],
      "execution_count": 31,
      "outputs": [
        {
          "output_type": "execute_result",
          "data": {
            "text/html": [
              "<div>\n",
              "<style scoped>\n",
              "    .dataframe tbody tr th:only-of-type {\n",
              "        vertical-align: middle;\n",
              "    }\n",
              "\n",
              "    .dataframe tbody tr th {\n",
              "        vertical-align: top;\n",
              "    }\n",
              "\n",
              "    .dataframe thead th {\n",
              "        text-align: right;\n",
              "    }\n",
              "</style>\n",
              "<table border=\"1\" class=\"dataframe\">\n",
              "  <thead>\n",
              "    <tr style=\"text-align: right;\">\n",
              "      <th></th>\n",
              "      <th>words</th>\n",
              "      <th>count</th>\n",
              "    </tr>\n",
              "  </thead>\n",
              "  <tbody>\n",
              "    <tr>\n",
              "      <th>0</th>\n",
              "      <td>covid19</td>\n",
              "      <td>554</td>\n",
              "    </tr>\n",
              "    <tr>\n",
              "      <th>1</th>\n",
              "      <td>cases</td>\n",
              "      <td>406</td>\n",
              "    </tr>\n",
              "    <tr>\n",
              "      <th>2</th>\n",
              "      <td>covid</td>\n",
              "      <td>228</td>\n",
              "    </tr>\n",
              "    <tr>\n",
              "      <th>3</th>\n",
              "      <td>new</td>\n",
              "      <td>125</td>\n",
              "    </tr>\n",
              "    <tr>\n",
              "      <th>4</th>\n",
              "      <td>indias</td>\n",
              "      <td>118</td>\n",
              "    </tr>\n",
              "  </tbody>\n",
              "</table>\n",
              "</div>"
            ],
            "text/plain": [
              "     words  count\n",
              "0  covid19    554\n",
              "1    cases    406\n",
              "2    covid    228\n",
              "3      new    125\n",
              "4   indias    118"
            ]
          },
          "metadata": {
            "tags": []
          },
          "execution_count": 31
        }
      ]
    },
    {
      "cell_type": "code",
      "metadata": {
        "id": "l9kvdQCAd4aw",
        "colab_type": "code",
        "colab": {}
      },
      "source": [
        "import pandas as pd\n",
        "import numpy as np\n",
        "import matplotlib.pyplot as plt\n",
        "%matplotlib inline"
      ],
      "execution_count": 32,
      "outputs": []
    },
    {
      "cell_type": "code",
      "metadata": {
        "id": "XUcSbWh4d901",
        "colab_type": "code",
        "colab": {
          "base_uri": "https://localhost:8080/",
          "height": 284
        },
        "outputId": "7f15140d-16a9-4892-bd22-b7ddef785d60"
      },
      "source": [
        "clean_tweets_ncw.describe()"
      ],
      "execution_count": 33,
      "outputs": [
        {
          "output_type": "execute_result",
          "data": {
            "text/html": [
              "<div>\n",
              "<style scoped>\n",
              "    .dataframe tbody tr th:only-of-type {\n",
              "        vertical-align: middle;\n",
              "    }\n",
              "\n",
              "    .dataframe tbody tr th {\n",
              "        vertical-align: top;\n",
              "    }\n",
              "\n",
              "    .dataframe thead th {\n",
              "        text-align: right;\n",
              "    }\n",
              "</style>\n",
              "<table border=\"1\" class=\"dataframe\">\n",
              "  <thead>\n",
              "    <tr style=\"text-align: right;\">\n",
              "      <th></th>\n",
              "      <th>count</th>\n",
              "    </tr>\n",
              "  </thead>\n",
              "  <tbody>\n",
              "    <tr>\n",
              "      <th>count</th>\n",
              "      <td>15.00000</td>\n",
              "    </tr>\n",
              "    <tr>\n",
              "      <th>mean</th>\n",
              "      <td>145.60000</td>\n",
              "    </tr>\n",
              "    <tr>\n",
              "      <th>std</th>\n",
              "      <td>144.77707</td>\n",
              "    </tr>\n",
              "    <tr>\n",
              "      <th>min</th>\n",
              "      <td>55.00000</td>\n",
              "    </tr>\n",
              "    <tr>\n",
              "      <th>25%</th>\n",
              "      <td>75.00000</td>\n",
              "    </tr>\n",
              "    <tr>\n",
              "      <th>50%</th>\n",
              "      <td>83.00000</td>\n",
              "    </tr>\n",
              "    <tr>\n",
              "      <th>75%</th>\n",
              "      <td>121.50000</td>\n",
              "    </tr>\n",
              "    <tr>\n",
              "      <th>max</th>\n",
              "      <td>554.00000</td>\n",
              "    </tr>\n",
              "  </tbody>\n",
              "</table>\n",
              "</div>"
            ],
            "text/plain": [
              "           count\n",
              "count   15.00000\n",
              "mean   145.60000\n",
              "std    144.77707\n",
              "min     55.00000\n",
              "25%     75.00000\n",
              "50%     83.00000\n",
              "75%    121.50000\n",
              "max    554.00000"
            ]
          },
          "metadata": {
            "tags": []
          },
          "execution_count": 33
        }
      ]
    },
    {
      "cell_type": "code",
      "metadata": {
        "id": "lJny0Qgkd_L6",
        "colab_type": "code",
        "colab": {}
      },
      "source": [
        "\n",
        "clean_tweets_ncw.columns=['covid19','cases']"
      ],
      "execution_count": 34,
      "outputs": []
    },
    {
      "cell_type": "code",
      "metadata": {
        "id": "0Oma-NACeCPf",
        "colab_type": "code",
        "colab": {
          "base_uri": "https://localhost:8080/",
          "height": 195
        },
        "outputId": "44152774-569f-4b6f-b8c3-520f3c276af5"
      },
      "source": [
        "clean_tweets_ncw.head()"
      ],
      "execution_count": 35,
      "outputs": [
        {
          "output_type": "execute_result",
          "data": {
            "text/html": [
              "<div>\n",
              "<style scoped>\n",
              "    .dataframe tbody tr th:only-of-type {\n",
              "        vertical-align: middle;\n",
              "    }\n",
              "\n",
              "    .dataframe tbody tr th {\n",
              "        vertical-align: top;\n",
              "    }\n",
              "\n",
              "    .dataframe thead th {\n",
              "        text-align: right;\n",
              "    }\n",
              "</style>\n",
              "<table border=\"1\" class=\"dataframe\">\n",
              "  <thead>\n",
              "    <tr style=\"text-align: right;\">\n",
              "      <th></th>\n",
              "      <th>covid19</th>\n",
              "      <th>cases</th>\n",
              "    </tr>\n",
              "  </thead>\n",
              "  <tbody>\n",
              "    <tr>\n",
              "      <th>0</th>\n",
              "      <td>covid19</td>\n",
              "      <td>554</td>\n",
              "    </tr>\n",
              "    <tr>\n",
              "      <th>1</th>\n",
              "      <td>cases</td>\n",
              "      <td>406</td>\n",
              "    </tr>\n",
              "    <tr>\n",
              "      <th>2</th>\n",
              "      <td>covid</td>\n",
              "      <td>228</td>\n",
              "    </tr>\n",
              "    <tr>\n",
              "      <th>3</th>\n",
              "      <td>new</td>\n",
              "      <td>125</td>\n",
              "    </tr>\n",
              "    <tr>\n",
              "      <th>4</th>\n",
              "      <td>indias</td>\n",
              "      <td>118</td>\n",
              "    </tr>\n",
              "  </tbody>\n",
              "</table>\n",
              "</div>"
            ],
            "text/plain": [
              "   covid19  cases\n",
              "0  covid19    554\n",
              "1    cases    406\n",
              "2    covid    228\n",
              "3      new    125\n",
              "4   indias    118"
            ]
          },
          "metadata": {
            "tags": []
          },
          "execution_count": 35
        }
      ]
    },
    {
      "cell_type": "code",
      "metadata": {
        "id": "6g5XiB-ReFP4",
        "colab_type": "code",
        "colab": {
          "base_uri": "https://localhost:8080/",
          "height": 34
        },
        "outputId": "7f2ddb53-31e0-4121-d427-41fa33b4c61e"
      },
      "source": [
        "\n",
        "clean_tweets_ncw.shape"
      ],
      "execution_count": 36,
      "outputs": [
        {
          "output_type": "execute_result",
          "data": {
            "text/plain": [
              "(15, 2)"
            ]
          },
          "metadata": {
            "tags": []
          },
          "execution_count": 36
        }
      ]
    },
    {
      "cell_type": "code",
      "metadata": {
        "id": "IJbQtVN8eIcD",
        "colab_type": "code",
        "colab": {
          "base_uri": "https://localhost:8080/",
          "height": 34
        },
        "outputId": "3e626228-b74a-4c24-bd7f-49796eccb3e2"
      },
      "source": [
        "clean_tweets_ncw.columns"
      ],
      "execution_count": 37,
      "outputs": [
        {
          "output_type": "execute_result",
          "data": {
            "text/plain": [
              "Index(['covid19', 'cases'], dtype='object')"
            ]
          },
          "metadata": {
            "tags": []
          },
          "execution_count": 37
        }
      ]
    },
    {
      "cell_type": "code",
      "metadata": {
        "id": "COAjaG5seLNB",
        "colab_type": "code",
        "colab": {
          "base_uri": "https://localhost:8080/",
          "height": 67
        },
        "outputId": "1f232ffa-27ad-42e2-85b1-61483c69cff4"
      },
      "source": [
        "clean_tweets_ncw.dtypes"
      ],
      "execution_count": 38,
      "outputs": [
        {
          "output_type": "execute_result",
          "data": {
            "text/plain": [
              "covid19    object\n",
              "cases       int64\n",
              "dtype: object"
            ]
          },
          "metadata": {
            "tags": []
          },
          "execution_count": 38
        }
      ]
    },
    {
      "cell_type": "code",
      "metadata": {
        "id": "z4vapPR5eN6h",
        "colab_type": "code",
        "colab": {
          "base_uri": "https://localhost:8080/",
          "height": 67
        },
        "outputId": "f5d1a40b-cc7f-4b8d-b776-6c92088e48f6"
      },
      "source": [
        "\n",
        "clean_tweets_ncw.isnull().sum()"
      ],
      "execution_count": 39,
      "outputs": [
        {
          "output_type": "execute_result",
          "data": {
            "text/plain": [
              "covid19    0\n",
              "cases      0\n",
              "dtype: int64"
            ]
          },
          "metadata": {
            "tags": []
          },
          "execution_count": 39
        }
      ]
    },
    {
      "cell_type": "code",
      "metadata": {
        "id": "YaITAReleQWB",
        "colab_type": "code",
        "colab": {
          "base_uri": "https://localhost:8080/",
          "height": 106
        },
        "outputId": "37692a9a-bcba-46c7-d6b1-762dac458b1e"
      },
      "source": [
        "tmp=pd.DataFrame(index=clean_tweets_ncw.columns)\n",
        "tmp['data_types']=clean_tweets_ncw.dtypes\n",
        "tmp['null_count']=clean_tweets_ncw.isnull().sum()\n",
        "tmp['unique_count']=clean_tweets_ncw.nunique()\n",
        "tmp"
      ],
      "execution_count": 40,
      "outputs": [
        {
          "output_type": "execute_result",
          "data": {
            "text/html": [
              "<div>\n",
              "<style scoped>\n",
              "    .dataframe tbody tr th:only-of-type {\n",
              "        vertical-align: middle;\n",
              "    }\n",
              "\n",
              "    .dataframe tbody tr th {\n",
              "        vertical-align: top;\n",
              "    }\n",
              "\n",
              "    .dataframe thead th {\n",
              "        text-align: right;\n",
              "    }\n",
              "</style>\n",
              "<table border=\"1\" class=\"dataframe\">\n",
              "  <thead>\n",
              "    <tr style=\"text-align: right;\">\n",
              "      <th></th>\n",
              "      <th>data_types</th>\n",
              "      <th>null_count</th>\n",
              "      <th>unique_count</th>\n",
              "    </tr>\n",
              "  </thead>\n",
              "  <tbody>\n",
              "    <tr>\n",
              "      <th>covid19</th>\n",
              "      <td>object</td>\n",
              "      <td>0</td>\n",
              "      <td>15</td>\n",
              "    </tr>\n",
              "    <tr>\n",
              "      <th>cases</th>\n",
              "      <td>int64</td>\n",
              "      <td>0</td>\n",
              "      <td>13</td>\n",
              "    </tr>\n",
              "  </tbody>\n",
              "</table>\n",
              "</div>"
            ],
            "text/plain": [
              "        data_types  null_count  unique_count\n",
              "covid19     object           0            15\n",
              "cases        int64           0            13"
            ]
          },
          "metadata": {
            "tags": []
          },
          "execution_count": 40
        }
      ]
    },
    {
      "cell_type": "code",
      "metadata": {
        "id": "nIGzljO_eSuR",
        "colab_type": "code",
        "colab": {
          "base_uri": "https://localhost:8080/",
          "height": 491
        },
        "outputId": "f4258b42-ccf8-45ef-c5b8-94f98e1e0c31"
      },
      "source": [
        "clean_tweets_ncw.drop_duplicates()"
      ],
      "execution_count": 41,
      "outputs": [
        {
          "output_type": "execute_result",
          "data": {
            "text/html": [
              "<div>\n",
              "<style scoped>\n",
              "    .dataframe tbody tr th:only-of-type {\n",
              "        vertical-align: middle;\n",
              "    }\n",
              "\n",
              "    .dataframe tbody tr th {\n",
              "        vertical-align: top;\n",
              "    }\n",
              "\n",
              "    .dataframe thead th {\n",
              "        text-align: right;\n",
              "    }\n",
              "</style>\n",
              "<table border=\"1\" class=\"dataframe\">\n",
              "  <thead>\n",
              "    <tr style=\"text-align: right;\">\n",
              "      <th></th>\n",
              "      <th>covid19</th>\n",
              "      <th>cases</th>\n",
              "    </tr>\n",
              "  </thead>\n",
              "  <tbody>\n",
              "    <tr>\n",
              "      <th>0</th>\n",
              "      <td>covid19</td>\n",
              "      <td>554</td>\n",
              "    </tr>\n",
              "    <tr>\n",
              "      <th>1</th>\n",
              "      <td>cases</td>\n",
              "      <td>406</td>\n",
              "    </tr>\n",
              "    <tr>\n",
              "      <th>2</th>\n",
              "      <td>covid</td>\n",
              "      <td>228</td>\n",
              "    </tr>\n",
              "    <tr>\n",
              "      <th>3</th>\n",
              "      <td>new</td>\n",
              "      <td>125</td>\n",
              "    </tr>\n",
              "    <tr>\n",
              "      <th>4</th>\n",
              "      <td>indias</td>\n",
              "      <td>118</td>\n",
              "    </tr>\n",
              "    <tr>\n",
              "      <th>5</th>\n",
              "      <td>tally</td>\n",
              "      <td>94</td>\n",
              "    </tr>\n",
              "    <tr>\n",
              "      <th>6</th>\n",
              "      <td>vaccine</td>\n",
              "      <td>90</td>\n",
              "    </tr>\n",
              "    <tr>\n",
              "      <th>7</th>\n",
              "      <td>corona</td>\n",
              "      <td>83</td>\n",
              "    </tr>\n",
              "    <tr>\n",
              "      <th>8</th>\n",
              "      <td>deaths</td>\n",
              "      <td>79</td>\n",
              "    </tr>\n",
              "    <tr>\n",
              "      <th>9</th>\n",
              "      <td>lakh</td>\n",
              "      <td>79</td>\n",
              "    </tr>\n",
              "    <tr>\n",
              "      <th>10</th>\n",
              "      <td>million</td>\n",
              "      <td>75</td>\n",
              "    </tr>\n",
              "    <tr>\n",
              "      <th>11</th>\n",
              "      <td>updates</td>\n",
              "      <td>75</td>\n",
              "    </tr>\n",
              "    <tr>\n",
              "      <th>12</th>\n",
              "      <td>china</td>\n",
              "      <td>63</td>\n",
              "    </tr>\n",
              "    <tr>\n",
              "      <th>13</th>\n",
              "      <td>19</td>\n",
              "      <td>60</td>\n",
              "    </tr>\n",
              "    <tr>\n",
              "      <th>14</th>\n",
              "      <td>positive</td>\n",
              "      <td>55</td>\n",
              "    </tr>\n",
              "  </tbody>\n",
              "</table>\n",
              "</div>"
            ],
            "text/plain": [
              "     covid19  cases\n",
              "0    covid19    554\n",
              "1      cases    406\n",
              "2      covid    228\n",
              "3        new    125\n",
              "4     indias    118\n",
              "5      tally     94\n",
              "6    vaccine     90\n",
              "7     corona     83\n",
              "8     deaths     79\n",
              "9       lakh     79\n",
              "10   million     75\n",
              "11   updates     75\n",
              "12     china     63\n",
              "13        19     60\n",
              "14  positive     55"
            ]
          },
          "metadata": {
            "tags": []
          },
          "execution_count": 41
        }
      ]
    },
    {
      "cell_type": "code",
      "metadata": {
        "id": "yJgJyf3veYbG",
        "colab_type": "code",
        "colab": {}
      },
      "source": [
        "clean_tweets_ncw['covid19'].fillna(value=(clean_tweets_ncw['cases'].mean()),inplace=True)"
      ],
      "execution_count": 42,
      "outputs": []
    },
    {
      "cell_type": "code",
      "metadata": {
        "id": "LCzorYOOebGG",
        "colab_type": "code",
        "colab": {
          "base_uri": "https://localhost:8080/",
          "height": 67
        },
        "outputId": "e4029683-6b6f-4d10-d328-6f1d74e3da1e"
      },
      "source": [
        "clean_tweets_ncw.isnull().sum()"
      ],
      "execution_count": 43,
      "outputs": [
        {
          "output_type": "execute_result",
          "data": {
            "text/plain": [
              "covid19    0\n",
              "cases      0\n",
              "dtype: int64"
            ]
          },
          "metadata": {
            "tags": []
          },
          "execution_count": 43
        }
      ]
    },
    {
      "cell_type": "code",
      "metadata": {
        "id": "E-sEK54jecMD",
        "colab_type": "code",
        "colab": {}
      },
      "source": [
        "clean_tweets_ncw=pd.get_dummies(clean_tweets_ncw)"
      ],
      "execution_count": 44,
      "outputs": []
    },
    {
      "cell_type": "code",
      "metadata": {
        "id": "Qz5k2S0hefUz",
        "colab_type": "code",
        "colab": {
          "base_uri": "https://localhost:8080/",
          "height": 215
        },
        "outputId": "0af4849a-da45-4b53-d18f-68029f3e6752"
      },
      "source": [
        "clean_tweets_ncw.head()"
      ],
      "execution_count": 45,
      "outputs": [
        {
          "output_type": "execute_result",
          "data": {
            "text/html": [
              "<div>\n",
              "<style scoped>\n",
              "    .dataframe tbody tr th:only-of-type {\n",
              "        vertical-align: middle;\n",
              "    }\n",
              "\n",
              "    .dataframe tbody tr th {\n",
              "        vertical-align: top;\n",
              "    }\n",
              "\n",
              "    .dataframe thead th {\n",
              "        text-align: right;\n",
              "    }\n",
              "</style>\n",
              "<table border=\"1\" class=\"dataframe\">\n",
              "  <thead>\n",
              "    <tr style=\"text-align: right;\">\n",
              "      <th></th>\n",
              "      <th>cases</th>\n",
              "      <th>covid19_19</th>\n",
              "      <th>covid19_cases</th>\n",
              "      <th>covid19_china</th>\n",
              "      <th>covid19_corona</th>\n",
              "      <th>covid19_covid</th>\n",
              "      <th>covid19_covid19</th>\n",
              "      <th>covid19_deaths</th>\n",
              "      <th>covid19_indias</th>\n",
              "      <th>covid19_lakh</th>\n",
              "      <th>covid19_million</th>\n",
              "      <th>covid19_new</th>\n",
              "      <th>covid19_positive</th>\n",
              "      <th>covid19_tally</th>\n",
              "      <th>covid19_updates</th>\n",
              "      <th>covid19_vaccine</th>\n",
              "    </tr>\n",
              "  </thead>\n",
              "  <tbody>\n",
              "    <tr>\n",
              "      <th>0</th>\n",
              "      <td>554</td>\n",
              "      <td>0</td>\n",
              "      <td>0</td>\n",
              "      <td>0</td>\n",
              "      <td>0</td>\n",
              "      <td>0</td>\n",
              "      <td>1</td>\n",
              "      <td>0</td>\n",
              "      <td>0</td>\n",
              "      <td>0</td>\n",
              "      <td>0</td>\n",
              "      <td>0</td>\n",
              "      <td>0</td>\n",
              "      <td>0</td>\n",
              "      <td>0</td>\n",
              "      <td>0</td>\n",
              "    </tr>\n",
              "    <tr>\n",
              "      <th>1</th>\n",
              "      <td>406</td>\n",
              "      <td>0</td>\n",
              "      <td>1</td>\n",
              "      <td>0</td>\n",
              "      <td>0</td>\n",
              "      <td>0</td>\n",
              "      <td>0</td>\n",
              "      <td>0</td>\n",
              "      <td>0</td>\n",
              "      <td>0</td>\n",
              "      <td>0</td>\n",
              "      <td>0</td>\n",
              "      <td>0</td>\n",
              "      <td>0</td>\n",
              "      <td>0</td>\n",
              "      <td>0</td>\n",
              "    </tr>\n",
              "    <tr>\n",
              "      <th>2</th>\n",
              "      <td>228</td>\n",
              "      <td>0</td>\n",
              "      <td>0</td>\n",
              "      <td>0</td>\n",
              "      <td>0</td>\n",
              "      <td>1</td>\n",
              "      <td>0</td>\n",
              "      <td>0</td>\n",
              "      <td>0</td>\n",
              "      <td>0</td>\n",
              "      <td>0</td>\n",
              "      <td>0</td>\n",
              "      <td>0</td>\n",
              "      <td>0</td>\n",
              "      <td>0</td>\n",
              "      <td>0</td>\n",
              "    </tr>\n",
              "    <tr>\n",
              "      <th>3</th>\n",
              "      <td>125</td>\n",
              "      <td>0</td>\n",
              "      <td>0</td>\n",
              "      <td>0</td>\n",
              "      <td>0</td>\n",
              "      <td>0</td>\n",
              "      <td>0</td>\n",
              "      <td>0</td>\n",
              "      <td>0</td>\n",
              "      <td>0</td>\n",
              "      <td>0</td>\n",
              "      <td>1</td>\n",
              "      <td>0</td>\n",
              "      <td>0</td>\n",
              "      <td>0</td>\n",
              "      <td>0</td>\n",
              "    </tr>\n",
              "    <tr>\n",
              "      <th>4</th>\n",
              "      <td>118</td>\n",
              "      <td>0</td>\n",
              "      <td>0</td>\n",
              "      <td>0</td>\n",
              "      <td>0</td>\n",
              "      <td>0</td>\n",
              "      <td>0</td>\n",
              "      <td>0</td>\n",
              "      <td>1</td>\n",
              "      <td>0</td>\n",
              "      <td>0</td>\n",
              "      <td>0</td>\n",
              "      <td>0</td>\n",
              "      <td>0</td>\n",
              "      <td>0</td>\n",
              "      <td>0</td>\n",
              "    </tr>\n",
              "  </tbody>\n",
              "</table>\n",
              "</div>"
            ],
            "text/plain": [
              "   cases  covid19_19  ...  covid19_updates  covid19_vaccine\n",
              "0    554           0  ...                0                0\n",
              "1    406           0  ...                0                0\n",
              "2    228           0  ...                0                0\n",
              "3    125           0  ...                0                0\n",
              "4    118           0  ...                0                0\n",
              "\n",
              "[5 rows x 16 columns]"
            ]
          },
          "metadata": {
            "tags": []
          },
          "execution_count": 45
        }
      ]
    },
    {
      "cell_type": "code",
      "metadata": {
        "id": "UhdTx43ieiCx",
        "colab_type": "code",
        "colab": {
          "base_uri": "https://localhost:8080/",
          "height": 34
        },
        "outputId": "a88b283f-5aa9-491a-bba3-ae2e8fd3b0b7"
      },
      "source": [
        "\n",
        "clean_tweets_ncw.isnull().values.any()\n",
        "\n",
        "clean_tweets_ncw.shape"
      ],
      "execution_count": 46,
      "outputs": [
        {
          "output_type": "execute_result",
          "data": {
            "text/plain": [
              "(15, 16)"
            ]
          },
          "metadata": {
            "tags": []
          },
          "execution_count": 46
        }
      ]
    },
    {
      "cell_type": "code",
      "metadata": {
        "id": "BvO7QdTFelCi",
        "colab_type": "code",
        "colab": {
          "base_uri": "https://localhost:8080/",
          "height": 215
        },
        "outputId": "1948555f-c679-4781-edc9-a4d14993cdf8"
      },
      "source": [
        "clean_tweets_ncw.head()"
      ],
      "execution_count": 47,
      "outputs": [
        {
          "output_type": "execute_result",
          "data": {
            "text/html": [
              "<div>\n",
              "<style scoped>\n",
              "    .dataframe tbody tr th:only-of-type {\n",
              "        vertical-align: middle;\n",
              "    }\n",
              "\n",
              "    .dataframe tbody tr th {\n",
              "        vertical-align: top;\n",
              "    }\n",
              "\n",
              "    .dataframe thead th {\n",
              "        text-align: right;\n",
              "    }\n",
              "</style>\n",
              "<table border=\"1\" class=\"dataframe\">\n",
              "  <thead>\n",
              "    <tr style=\"text-align: right;\">\n",
              "      <th></th>\n",
              "      <th>cases</th>\n",
              "      <th>covid19_19</th>\n",
              "      <th>covid19_cases</th>\n",
              "      <th>covid19_china</th>\n",
              "      <th>covid19_corona</th>\n",
              "      <th>covid19_covid</th>\n",
              "      <th>covid19_covid19</th>\n",
              "      <th>covid19_deaths</th>\n",
              "      <th>covid19_indias</th>\n",
              "      <th>covid19_lakh</th>\n",
              "      <th>covid19_million</th>\n",
              "      <th>covid19_new</th>\n",
              "      <th>covid19_positive</th>\n",
              "      <th>covid19_tally</th>\n",
              "      <th>covid19_updates</th>\n",
              "      <th>covid19_vaccine</th>\n",
              "    </tr>\n",
              "  </thead>\n",
              "  <tbody>\n",
              "    <tr>\n",
              "      <th>0</th>\n",
              "      <td>554</td>\n",
              "      <td>0</td>\n",
              "      <td>0</td>\n",
              "      <td>0</td>\n",
              "      <td>0</td>\n",
              "      <td>0</td>\n",
              "      <td>1</td>\n",
              "      <td>0</td>\n",
              "      <td>0</td>\n",
              "      <td>0</td>\n",
              "      <td>0</td>\n",
              "      <td>0</td>\n",
              "      <td>0</td>\n",
              "      <td>0</td>\n",
              "      <td>0</td>\n",
              "      <td>0</td>\n",
              "    </tr>\n",
              "    <tr>\n",
              "      <th>1</th>\n",
              "      <td>406</td>\n",
              "      <td>0</td>\n",
              "      <td>1</td>\n",
              "      <td>0</td>\n",
              "      <td>0</td>\n",
              "      <td>0</td>\n",
              "      <td>0</td>\n",
              "      <td>0</td>\n",
              "      <td>0</td>\n",
              "      <td>0</td>\n",
              "      <td>0</td>\n",
              "      <td>0</td>\n",
              "      <td>0</td>\n",
              "      <td>0</td>\n",
              "      <td>0</td>\n",
              "      <td>0</td>\n",
              "    </tr>\n",
              "    <tr>\n",
              "      <th>2</th>\n",
              "      <td>228</td>\n",
              "      <td>0</td>\n",
              "      <td>0</td>\n",
              "      <td>0</td>\n",
              "      <td>0</td>\n",
              "      <td>1</td>\n",
              "      <td>0</td>\n",
              "      <td>0</td>\n",
              "      <td>0</td>\n",
              "      <td>0</td>\n",
              "      <td>0</td>\n",
              "      <td>0</td>\n",
              "      <td>0</td>\n",
              "      <td>0</td>\n",
              "      <td>0</td>\n",
              "      <td>0</td>\n",
              "    </tr>\n",
              "    <tr>\n",
              "      <th>3</th>\n",
              "      <td>125</td>\n",
              "      <td>0</td>\n",
              "      <td>0</td>\n",
              "      <td>0</td>\n",
              "      <td>0</td>\n",
              "      <td>0</td>\n",
              "      <td>0</td>\n",
              "      <td>0</td>\n",
              "      <td>0</td>\n",
              "      <td>0</td>\n",
              "      <td>0</td>\n",
              "      <td>1</td>\n",
              "      <td>0</td>\n",
              "      <td>0</td>\n",
              "      <td>0</td>\n",
              "      <td>0</td>\n",
              "    </tr>\n",
              "    <tr>\n",
              "      <th>4</th>\n",
              "      <td>118</td>\n",
              "      <td>0</td>\n",
              "      <td>0</td>\n",
              "      <td>0</td>\n",
              "      <td>0</td>\n",
              "      <td>0</td>\n",
              "      <td>0</td>\n",
              "      <td>0</td>\n",
              "      <td>1</td>\n",
              "      <td>0</td>\n",
              "      <td>0</td>\n",
              "      <td>0</td>\n",
              "      <td>0</td>\n",
              "      <td>0</td>\n",
              "      <td>0</td>\n",
              "      <td>0</td>\n",
              "    </tr>\n",
              "  </tbody>\n",
              "</table>\n",
              "</div>"
            ],
            "text/plain": [
              "   cases  covid19_19  ...  covid19_updates  covid19_vaccine\n",
              "0    554           0  ...                0                0\n",
              "1    406           0  ...                0                0\n",
              "2    228           0  ...                0                0\n",
              "3    125           0  ...                0                0\n",
              "4    118           0  ...                0                0\n",
              "\n",
              "[5 rows x 16 columns]"
            ]
          },
          "metadata": {
            "tags": []
          },
          "execution_count": 47
        }
      ]
    },
    {
      "cell_type": "markdown",
      "metadata": {
        "id": "fZloNdRBermT",
        "colab_type": "text"
      },
      "source": [
        "\n",
        "**Bag of words**\n",
        "\n",
        "We’ll define a collection of strings called a corpus. Then we’ll use the CountVectorizer to create vectors from the corpus."
      ]
    },
    {
      "cell_type": "code",
      "metadata": {
        "id": "CQjZbg0fenr-",
        "colab_type": "code",
        "colab": {
          "base_uri": "https://localhost:8080/",
          "height": 222
        },
        "outputId": "584d1026-930f-41b3-f8f4-cca968b21b30"
      },
      "source": [
        "from sklearn.feature_extraction.text import CountVectorizer\n",
        "\n",
        "#corpus = all_tweets_no_urls[:5]\n",
        "corpus = all_tweets_no_urls[:5]\n",
        "\n",
        "vectorizer = CountVectorizer()\n",
        "print( vectorizer.fit_transform(corpus).todense() )\n",
        "print( vectorizer.vocabulary_ )"
      ],
      "execution_count": 48,
      "outputs": [
        {
          "output_type": "stream",
          "text": [
            "[[0 0 1 1 0 0 0 0 0 1 0 1 0 1 0 0 0 0 0 1 0 0 1 0 0 0 0 0 0 1 1 0 0 0 0 0\n",
            "  0 0 0 0 0 0 0 0 1 0 0 0 0 0 0 0 1 1 0 0 0 0 0 0 0 0]\n",
            " [1 0 0 0 0 1 0 1 0 0 1 0 0 0 0 1 1 1 0 0 0 0 0 0 0 0 0 0 0 0 1 0 0 1 0 0\n",
            "  0 0 0 0 0 0 0 1 0 0 0 0 1 0 1 0 0 0 0 1 0 0 1 1 0 0]\n",
            " [0 1 0 0 1 0 1 0 1 0 0 0 0 0 0 0 0 0 1 0 0 0 0 0 0 0 1 0 1 0 0 1 1 0 0 0\n",
            "  0 1 0 0 0 0 2 0 0 0 0 0 0 0 0 1 0 0 0 0 3 1 0 0 0 0]\n",
            " [0 0 1 0 1 0 0 0 0 0 0 0 0 0 1 0 0 0 1 0 0 0 0 0 0 1 0 1 0 0 0 1 0 0 1 1\n",
            "  0 1 0 1 0 1 1 1 0 0 1 0 0 1 0 0 0 0 0 0 2 0 0 0 1 1]\n",
            " [0 0 0 0 0 0 0 0 0 0 0 0 1 0 0 0 0 0 0 0 1 1 0 1 1 0 0 0 0 0 0 0 0 0 0 0\n",
            "  1 0 1 0 1 0 0 1 0 1 0 1 0 0 0 0 0 0 1 0 0 0 0 0 0 0]]\n",
            "{'after': 2, 'spotting': 52, 'covidpositive': 13, 'passengers': 44, 'air': 3, 'india': 30, 'flights': 22, 'suspended': 53, 'in': 29, 'dubaiairindia': 19, 'covid19': 11, 'coronavirus': 9, 'retired': 48, 'virologist': 59, 'says': 50, 'that': 55, 'is': 33, 'undercounting': 58, 'covid': 10, 'deathsthe': 15, 'debate': 16, 'about': 0, 'attack': 5, 'on': 43, 'dissent': 17, 'continues': 7, 'the': 56, 'indian': 31, 'medical': 37, 'association': 4, 'ima': 28, 'has': 26, 'accused': 1, 'centre': 6, 'of': 42, 'showing': 51, 'indifference': 32, 'to': 57, 'contribution': 8, 'doctors': 18, 'provided': 46, 'list': 35, 'mohfw': 39, 'said': 49, 'it': 34, 'had': 25, 'no': 41, 'data': 14, 'health': 27, 'workers': 61, 'who': 60, 'maharashtra': 36, 'energy': 20, 'minister': 38, 'nitin': 40, 'raut': 47, 'friday': 24, 'tested': 54, 'positive': 45, 'for': 23, 'covid19minister': 12, 'energyminister': 21}\n"
          ],
          "name": "stdout"
        }
      ]
    },
    {
      "cell_type": "code",
      "metadata": {
        "id": "xej9RadkevZa",
        "colab_type": "code",
        "colab": {}
      },
      "source": [
        "clean_tweets_ncw.all_tweets_no_urls=['covid19','cases']"
      ],
      "execution_count": 49,
      "outputs": []
    },
    {
      "cell_type": "code",
      "metadata": {
        "id": "OTJx1YpXe1F_",
        "colab_type": "code",
        "colab": {
          "base_uri": "https://localhost:8080/",
          "height": 521
        },
        "outputId": "ba6eaf5e-034f-4100-86d6-11176ac2b253"
      },
      "source": [
        "\n",
        "tmp=pd.DataFrame(index=clean_tweets_ncw.columns)\n",
        "tmp['data_types']=clean_tweets_ncw.dtypes\n",
        "tmp['null_count']=clean_tweets_ncw.isnull().sum()\n",
        "tmp['unique_count']=clean_tweets_ncw.nunique()\n",
        "tmp"
      ],
      "execution_count": 50,
      "outputs": [
        {
          "output_type": "execute_result",
          "data": {
            "text/html": [
              "<div>\n",
              "<style scoped>\n",
              "    .dataframe tbody tr th:only-of-type {\n",
              "        vertical-align: middle;\n",
              "    }\n",
              "\n",
              "    .dataframe tbody tr th {\n",
              "        vertical-align: top;\n",
              "    }\n",
              "\n",
              "    .dataframe thead th {\n",
              "        text-align: right;\n",
              "    }\n",
              "</style>\n",
              "<table border=\"1\" class=\"dataframe\">\n",
              "  <thead>\n",
              "    <tr style=\"text-align: right;\">\n",
              "      <th></th>\n",
              "      <th>data_types</th>\n",
              "      <th>null_count</th>\n",
              "      <th>unique_count</th>\n",
              "    </tr>\n",
              "  </thead>\n",
              "  <tbody>\n",
              "    <tr>\n",
              "      <th>cases</th>\n",
              "      <td>int64</td>\n",
              "      <td>0</td>\n",
              "      <td>13</td>\n",
              "    </tr>\n",
              "    <tr>\n",
              "      <th>covid19_19</th>\n",
              "      <td>uint8</td>\n",
              "      <td>0</td>\n",
              "      <td>2</td>\n",
              "    </tr>\n",
              "    <tr>\n",
              "      <th>covid19_cases</th>\n",
              "      <td>uint8</td>\n",
              "      <td>0</td>\n",
              "      <td>2</td>\n",
              "    </tr>\n",
              "    <tr>\n",
              "      <th>covid19_china</th>\n",
              "      <td>uint8</td>\n",
              "      <td>0</td>\n",
              "      <td>2</td>\n",
              "    </tr>\n",
              "    <tr>\n",
              "      <th>covid19_corona</th>\n",
              "      <td>uint8</td>\n",
              "      <td>0</td>\n",
              "      <td>2</td>\n",
              "    </tr>\n",
              "    <tr>\n",
              "      <th>covid19_covid</th>\n",
              "      <td>uint8</td>\n",
              "      <td>0</td>\n",
              "      <td>2</td>\n",
              "    </tr>\n",
              "    <tr>\n",
              "      <th>covid19_covid19</th>\n",
              "      <td>uint8</td>\n",
              "      <td>0</td>\n",
              "      <td>2</td>\n",
              "    </tr>\n",
              "    <tr>\n",
              "      <th>covid19_deaths</th>\n",
              "      <td>uint8</td>\n",
              "      <td>0</td>\n",
              "      <td>2</td>\n",
              "    </tr>\n",
              "    <tr>\n",
              "      <th>covid19_indias</th>\n",
              "      <td>uint8</td>\n",
              "      <td>0</td>\n",
              "      <td>2</td>\n",
              "    </tr>\n",
              "    <tr>\n",
              "      <th>covid19_lakh</th>\n",
              "      <td>uint8</td>\n",
              "      <td>0</td>\n",
              "      <td>2</td>\n",
              "    </tr>\n",
              "    <tr>\n",
              "      <th>covid19_million</th>\n",
              "      <td>uint8</td>\n",
              "      <td>0</td>\n",
              "      <td>2</td>\n",
              "    </tr>\n",
              "    <tr>\n",
              "      <th>covid19_new</th>\n",
              "      <td>uint8</td>\n",
              "      <td>0</td>\n",
              "      <td>2</td>\n",
              "    </tr>\n",
              "    <tr>\n",
              "      <th>covid19_positive</th>\n",
              "      <td>uint8</td>\n",
              "      <td>0</td>\n",
              "      <td>2</td>\n",
              "    </tr>\n",
              "    <tr>\n",
              "      <th>covid19_tally</th>\n",
              "      <td>uint8</td>\n",
              "      <td>0</td>\n",
              "      <td>2</td>\n",
              "    </tr>\n",
              "    <tr>\n",
              "      <th>covid19_updates</th>\n",
              "      <td>uint8</td>\n",
              "      <td>0</td>\n",
              "      <td>2</td>\n",
              "    </tr>\n",
              "    <tr>\n",
              "      <th>covid19_vaccine</th>\n",
              "      <td>uint8</td>\n",
              "      <td>0</td>\n",
              "      <td>2</td>\n",
              "    </tr>\n",
              "  </tbody>\n",
              "</table>\n",
              "</div>"
            ],
            "text/plain": [
              "                 data_types  null_count  unique_count\n",
              "cases                 int64           0            13\n",
              "covid19_19            uint8           0             2\n",
              "covid19_cases         uint8           0             2\n",
              "covid19_china         uint8           0             2\n",
              "covid19_corona        uint8           0             2\n",
              "covid19_covid         uint8           0             2\n",
              "covid19_covid19       uint8           0             2\n",
              "covid19_deaths        uint8           0             2\n",
              "covid19_indias        uint8           0             2\n",
              "covid19_lakh          uint8           0             2\n",
              "covid19_million       uint8           0             2\n",
              "covid19_new           uint8           0             2\n",
              "covid19_positive      uint8           0             2\n",
              "covid19_tally         uint8           0             2\n",
              "covid19_updates       uint8           0             2\n",
              "covid19_vaccine       uint8           0             2"
            ]
          },
          "metadata": {
            "tags": []
          },
          "execution_count": 50
        }
      ]
    },
    {
      "cell_type": "markdown",
      "metadata": {
        "id": "VWkvcIcYe-OM",
        "colab_type": "text"
      },
      "source": [
        "\n",
        "**KNN**"
      ]
    },
    {
      "cell_type": "code",
      "metadata": {
        "id": "FcTmkoLPe4cQ",
        "colab_type": "code",
        "colab": {}
      },
      "source": [
        "from sklearn.neighbors import KNeighborsClassifier as knn\n",
        "from sklearn.tree import DecisionTreeClassifier\n",
        "from sklearn.ensemble import RandomForestClassifier"
      ],
      "execution_count": 51,
      "outputs": []
    },
    {
      "cell_type": "code",
      "metadata": {
        "id": "d8m9Ao6rfDEi",
        "colab_type": "code",
        "colab": {
          "base_uri": "https://localhost:8080/",
          "height": 511
        },
        "outputId": "89885424-8ea7-43f3-cdb0-a7cf98c5a870"
      },
      "source": [
        "clean_tweets_ncw.drop_duplicates()"
      ],
      "execution_count": 52,
      "outputs": [
        {
          "output_type": "execute_result",
          "data": {
            "text/html": [
              "<div>\n",
              "<style scoped>\n",
              "    .dataframe tbody tr th:only-of-type {\n",
              "        vertical-align: middle;\n",
              "    }\n",
              "\n",
              "    .dataframe tbody tr th {\n",
              "        vertical-align: top;\n",
              "    }\n",
              "\n",
              "    .dataframe thead th {\n",
              "        text-align: right;\n",
              "    }\n",
              "</style>\n",
              "<table border=\"1\" class=\"dataframe\">\n",
              "  <thead>\n",
              "    <tr style=\"text-align: right;\">\n",
              "      <th></th>\n",
              "      <th>cases</th>\n",
              "      <th>covid19_19</th>\n",
              "      <th>covid19_cases</th>\n",
              "      <th>covid19_china</th>\n",
              "      <th>covid19_corona</th>\n",
              "      <th>covid19_covid</th>\n",
              "      <th>covid19_covid19</th>\n",
              "      <th>covid19_deaths</th>\n",
              "      <th>covid19_indias</th>\n",
              "      <th>covid19_lakh</th>\n",
              "      <th>covid19_million</th>\n",
              "      <th>covid19_new</th>\n",
              "      <th>covid19_positive</th>\n",
              "      <th>covid19_tally</th>\n",
              "      <th>covid19_updates</th>\n",
              "      <th>covid19_vaccine</th>\n",
              "    </tr>\n",
              "  </thead>\n",
              "  <tbody>\n",
              "    <tr>\n",
              "      <th>0</th>\n",
              "      <td>554</td>\n",
              "      <td>0</td>\n",
              "      <td>0</td>\n",
              "      <td>0</td>\n",
              "      <td>0</td>\n",
              "      <td>0</td>\n",
              "      <td>1</td>\n",
              "      <td>0</td>\n",
              "      <td>0</td>\n",
              "      <td>0</td>\n",
              "      <td>0</td>\n",
              "      <td>0</td>\n",
              "      <td>0</td>\n",
              "      <td>0</td>\n",
              "      <td>0</td>\n",
              "      <td>0</td>\n",
              "    </tr>\n",
              "    <tr>\n",
              "      <th>1</th>\n",
              "      <td>406</td>\n",
              "      <td>0</td>\n",
              "      <td>1</td>\n",
              "      <td>0</td>\n",
              "      <td>0</td>\n",
              "      <td>0</td>\n",
              "      <td>0</td>\n",
              "      <td>0</td>\n",
              "      <td>0</td>\n",
              "      <td>0</td>\n",
              "      <td>0</td>\n",
              "      <td>0</td>\n",
              "      <td>0</td>\n",
              "      <td>0</td>\n",
              "      <td>0</td>\n",
              "      <td>0</td>\n",
              "    </tr>\n",
              "    <tr>\n",
              "      <th>2</th>\n",
              "      <td>228</td>\n",
              "      <td>0</td>\n",
              "      <td>0</td>\n",
              "      <td>0</td>\n",
              "      <td>0</td>\n",
              "      <td>1</td>\n",
              "      <td>0</td>\n",
              "      <td>0</td>\n",
              "      <td>0</td>\n",
              "      <td>0</td>\n",
              "      <td>0</td>\n",
              "      <td>0</td>\n",
              "      <td>0</td>\n",
              "      <td>0</td>\n",
              "      <td>0</td>\n",
              "      <td>0</td>\n",
              "    </tr>\n",
              "    <tr>\n",
              "      <th>3</th>\n",
              "      <td>125</td>\n",
              "      <td>0</td>\n",
              "      <td>0</td>\n",
              "      <td>0</td>\n",
              "      <td>0</td>\n",
              "      <td>0</td>\n",
              "      <td>0</td>\n",
              "      <td>0</td>\n",
              "      <td>0</td>\n",
              "      <td>0</td>\n",
              "      <td>0</td>\n",
              "      <td>1</td>\n",
              "      <td>0</td>\n",
              "      <td>0</td>\n",
              "      <td>0</td>\n",
              "      <td>0</td>\n",
              "    </tr>\n",
              "    <tr>\n",
              "      <th>4</th>\n",
              "      <td>118</td>\n",
              "      <td>0</td>\n",
              "      <td>0</td>\n",
              "      <td>0</td>\n",
              "      <td>0</td>\n",
              "      <td>0</td>\n",
              "      <td>0</td>\n",
              "      <td>0</td>\n",
              "      <td>1</td>\n",
              "      <td>0</td>\n",
              "      <td>0</td>\n",
              "      <td>0</td>\n",
              "      <td>0</td>\n",
              "      <td>0</td>\n",
              "      <td>0</td>\n",
              "      <td>0</td>\n",
              "    </tr>\n",
              "    <tr>\n",
              "      <th>5</th>\n",
              "      <td>94</td>\n",
              "      <td>0</td>\n",
              "      <td>0</td>\n",
              "      <td>0</td>\n",
              "      <td>0</td>\n",
              "      <td>0</td>\n",
              "      <td>0</td>\n",
              "      <td>0</td>\n",
              "      <td>0</td>\n",
              "      <td>0</td>\n",
              "      <td>0</td>\n",
              "      <td>0</td>\n",
              "      <td>0</td>\n",
              "      <td>1</td>\n",
              "      <td>0</td>\n",
              "      <td>0</td>\n",
              "    </tr>\n",
              "    <tr>\n",
              "      <th>6</th>\n",
              "      <td>90</td>\n",
              "      <td>0</td>\n",
              "      <td>0</td>\n",
              "      <td>0</td>\n",
              "      <td>0</td>\n",
              "      <td>0</td>\n",
              "      <td>0</td>\n",
              "      <td>0</td>\n",
              "      <td>0</td>\n",
              "      <td>0</td>\n",
              "      <td>0</td>\n",
              "      <td>0</td>\n",
              "      <td>0</td>\n",
              "      <td>0</td>\n",
              "      <td>0</td>\n",
              "      <td>1</td>\n",
              "    </tr>\n",
              "    <tr>\n",
              "      <th>7</th>\n",
              "      <td>83</td>\n",
              "      <td>0</td>\n",
              "      <td>0</td>\n",
              "      <td>0</td>\n",
              "      <td>1</td>\n",
              "      <td>0</td>\n",
              "      <td>0</td>\n",
              "      <td>0</td>\n",
              "      <td>0</td>\n",
              "      <td>0</td>\n",
              "      <td>0</td>\n",
              "      <td>0</td>\n",
              "      <td>0</td>\n",
              "      <td>0</td>\n",
              "      <td>0</td>\n",
              "      <td>0</td>\n",
              "    </tr>\n",
              "    <tr>\n",
              "      <th>8</th>\n",
              "      <td>79</td>\n",
              "      <td>0</td>\n",
              "      <td>0</td>\n",
              "      <td>0</td>\n",
              "      <td>0</td>\n",
              "      <td>0</td>\n",
              "      <td>0</td>\n",
              "      <td>1</td>\n",
              "      <td>0</td>\n",
              "      <td>0</td>\n",
              "      <td>0</td>\n",
              "      <td>0</td>\n",
              "      <td>0</td>\n",
              "      <td>0</td>\n",
              "      <td>0</td>\n",
              "      <td>0</td>\n",
              "    </tr>\n",
              "    <tr>\n",
              "      <th>9</th>\n",
              "      <td>79</td>\n",
              "      <td>0</td>\n",
              "      <td>0</td>\n",
              "      <td>0</td>\n",
              "      <td>0</td>\n",
              "      <td>0</td>\n",
              "      <td>0</td>\n",
              "      <td>0</td>\n",
              "      <td>0</td>\n",
              "      <td>1</td>\n",
              "      <td>0</td>\n",
              "      <td>0</td>\n",
              "      <td>0</td>\n",
              "      <td>0</td>\n",
              "      <td>0</td>\n",
              "      <td>0</td>\n",
              "    </tr>\n",
              "    <tr>\n",
              "      <th>10</th>\n",
              "      <td>75</td>\n",
              "      <td>0</td>\n",
              "      <td>0</td>\n",
              "      <td>0</td>\n",
              "      <td>0</td>\n",
              "      <td>0</td>\n",
              "      <td>0</td>\n",
              "      <td>0</td>\n",
              "      <td>0</td>\n",
              "      <td>0</td>\n",
              "      <td>1</td>\n",
              "      <td>0</td>\n",
              "      <td>0</td>\n",
              "      <td>0</td>\n",
              "      <td>0</td>\n",
              "      <td>0</td>\n",
              "    </tr>\n",
              "    <tr>\n",
              "      <th>11</th>\n",
              "      <td>75</td>\n",
              "      <td>0</td>\n",
              "      <td>0</td>\n",
              "      <td>0</td>\n",
              "      <td>0</td>\n",
              "      <td>0</td>\n",
              "      <td>0</td>\n",
              "      <td>0</td>\n",
              "      <td>0</td>\n",
              "      <td>0</td>\n",
              "      <td>0</td>\n",
              "      <td>0</td>\n",
              "      <td>0</td>\n",
              "      <td>0</td>\n",
              "      <td>1</td>\n",
              "      <td>0</td>\n",
              "    </tr>\n",
              "    <tr>\n",
              "      <th>12</th>\n",
              "      <td>63</td>\n",
              "      <td>0</td>\n",
              "      <td>0</td>\n",
              "      <td>1</td>\n",
              "      <td>0</td>\n",
              "      <td>0</td>\n",
              "      <td>0</td>\n",
              "      <td>0</td>\n",
              "      <td>0</td>\n",
              "      <td>0</td>\n",
              "      <td>0</td>\n",
              "      <td>0</td>\n",
              "      <td>0</td>\n",
              "      <td>0</td>\n",
              "      <td>0</td>\n",
              "      <td>0</td>\n",
              "    </tr>\n",
              "    <tr>\n",
              "      <th>13</th>\n",
              "      <td>60</td>\n",
              "      <td>1</td>\n",
              "      <td>0</td>\n",
              "      <td>0</td>\n",
              "      <td>0</td>\n",
              "      <td>0</td>\n",
              "      <td>0</td>\n",
              "      <td>0</td>\n",
              "      <td>0</td>\n",
              "      <td>0</td>\n",
              "      <td>0</td>\n",
              "      <td>0</td>\n",
              "      <td>0</td>\n",
              "      <td>0</td>\n",
              "      <td>0</td>\n",
              "      <td>0</td>\n",
              "    </tr>\n",
              "    <tr>\n",
              "      <th>14</th>\n",
              "      <td>55</td>\n",
              "      <td>0</td>\n",
              "      <td>0</td>\n",
              "      <td>0</td>\n",
              "      <td>0</td>\n",
              "      <td>0</td>\n",
              "      <td>0</td>\n",
              "      <td>0</td>\n",
              "      <td>0</td>\n",
              "      <td>0</td>\n",
              "      <td>0</td>\n",
              "      <td>0</td>\n",
              "      <td>1</td>\n",
              "      <td>0</td>\n",
              "      <td>0</td>\n",
              "      <td>0</td>\n",
              "    </tr>\n",
              "  </tbody>\n",
              "</table>\n",
              "</div>"
            ],
            "text/plain": [
              "    cases  covid19_19  ...  covid19_updates  covid19_vaccine\n",
              "0     554           0  ...                0                0\n",
              "1     406           0  ...                0                0\n",
              "2     228           0  ...                0                0\n",
              "3     125           0  ...                0                0\n",
              "4     118           0  ...                0                0\n",
              "5      94           0  ...                0                0\n",
              "6      90           0  ...                0                1\n",
              "7      83           0  ...                0                0\n",
              "8      79           0  ...                0                0\n",
              "9      79           0  ...                0                0\n",
              "10     75           0  ...                0                0\n",
              "11     75           0  ...                1                0\n",
              "12     63           0  ...                0                0\n",
              "13     60           1  ...                0                0\n",
              "14     55           0  ...                0                0\n",
              "\n",
              "[15 rows x 16 columns]"
            ]
          },
          "metadata": {
            "tags": []
          },
          "execution_count": 52
        }
      ]
    },
    {
      "cell_type": "code",
      "metadata": {
        "id": "bB-01YaufF43",
        "colab_type": "code",
        "colab": {}
      },
      "source": [
        "from sklearn.model_selection import train_test_split\n",
        "from sklearn.preprocessing import StandardScaler\n",
        "#standardScaler = StandardScaler()\n",
        "#columns_to_scale = ['cases', 'covid19_cases', 'covid19_deaths' , 'covid19_new']\n",
        "#clean_tweets_ncw[columns_to_scale] = standardScaler.fit_transform(clean_tweets_ncw[columns_to_scale])"
      ],
      "execution_count": 53,
      "outputs": []
    },
    {
      "cell_type": "code",
      "metadata": {
        "id": "xtLt6KCZfJdS",
        "colab_type": "code",
        "colab": {}
      },
      "source": [
        "X = clean_tweets_ncw.iloc[:, :-1].values\n",
        "#X=np.asarray(clean_tweets_ncw['cases'], dtype=\"|S6\")\n",
        "y = np.asarray(clean_tweets_ncw['cases'], dtype=\"|S2\")\n",
        "#y= clean_tweets_ncw.iloc[:, 4].values"
      ],
      "execution_count": 54,
      "outputs": []
    },
    {
      "cell_type": "code",
      "metadata": {
        "id": "wF8_XrvJfOGe",
        "colab_type": "code",
        "colab": {
          "base_uri": "https://localhost:8080/",
          "height": 67
        },
        "outputId": "f183e3ab-ef28-42bd-ff6e-ac07c943f5e2"
      },
      "source": [
        "from sklearn.model_selection import train_test_split\n",
        "X_train, X_test, y_train, y_test = train_test_split(X, y, test_size=0.33, \n",
        "random_state=42) \n",
        "\n",
        "from sklearn.neighbors import KNeighborsClassifier \n",
        "knn = KNeighborsClassifier(n_neighbors=3)\n",
        "knn.fit(X_train,y_train)"
      ],
      "execution_count": 61,
      "outputs": [
        {
          "output_type": "execute_result",
          "data": {
            "text/plain": [
              "KNeighborsClassifier(algorithm='auto', leaf_size=30, metric='minkowski',\n",
              "                     metric_params=None, n_jobs=None, n_neighbors=3, p=2,\n",
              "                     weights='uniform')"
            ]
          },
          "metadata": {
            "tags": []
          },
          "execution_count": 61
        }
      ]
    },
    {
      "cell_type": "code",
      "metadata": {
        "id": "S6A5KG2CfQST",
        "colab_type": "code",
        "colab": {}
      },
      "source": [
        "pred =  knn.predict(X_test)"
      ],
      "execution_count": 62,
      "outputs": []
    },
    {
      "cell_type": "code",
      "metadata": {
        "id": "iNyFcsAffUmC",
        "colab_type": "code",
        "colab": {
          "base_uri": "https://localhost:8080/",
          "height": 118
        },
        "outputId": "e5664475-ae50-4036-9800-e39cce6a289e"
      },
      "source": [
        "from sklearn.metrics import classification_report,confusion_matrix\n",
        "print(confusion_matrix(y_test,pred))"
      ],
      "execution_count": 63,
      "outputs": [
        {
          "output_type": "stream",
          "text": [
            "[[0 0 0 0 0 0]\n",
            " [1 0 0 0 0 0]\n",
            " [0 1 0 0 0 0]\n",
            " [0 0 0 1 0 0]\n",
            " [0 0 0 1 0 0]\n",
            " [0 0 0 0 1 0]]\n"
          ],
          "name": "stdout"
        }
      ]
    },
    {
      "cell_type": "code",
      "metadata": {
        "id": "HtWaZMMTfdt-",
        "colab_type": "code",
        "colab": {
          "base_uri": "https://localhost:8080/",
          "height": 235
        },
        "outputId": "edc15da4-e668-4235-de17-a7adeea8a1b2"
      },
      "source": [
        "print(classification_report(y_test,pred))"
      ],
      "execution_count": 64,
      "outputs": [
        {
          "output_type": "stream",
          "text": [
            "              precision    recall  f1-score   support\n",
            "\n",
            "       b'12'       0.00      0.00      0.00         0\n",
            "       b'55'       0.00      0.00      0.00         1\n",
            "       b'60'       0.00      0.00      0.00         1\n",
            "       b'75'       0.50      1.00      0.67         1\n",
            "       b'79'       0.00      0.00      0.00         1\n",
            "       b'94'       0.00      0.00      0.00         1\n",
            "\n",
            "    accuracy                           0.20         5\n",
            "   macro avg       0.08      0.17      0.11         5\n",
            "weighted avg       0.10      0.20      0.13         5\n",
            "\n"
          ],
          "name": "stdout"
        }
      ]
    },
    {
      "cell_type": "markdown",
      "metadata": {
        "id": "k0em8HnQfrmp",
        "colab_type": "text"
      },
      "source": [
        "\n",
        "**Choosing a K Value**\n",
        "\n",
        "Let’s go ahead and use the elbow method to pick a good K Value. We will basically check the error rate for k=1 to say k=40. For every value of k we will call KNN classifier and then choose the value of k which has the least error rate."
      ]
    },
    {
      "cell_type": "code",
      "metadata": {
        "id": "gT7lLCF3gCKI",
        "colab_type": "code",
        "colab": {}
      },
      "source": [
        "\n",
        "error_rate = []\n",
        "# Might take some time\n",
        "for i in range(1,10):\n",
        "    \n",
        "    knn = KNeighborsClassifier(n_neighbors=i)\n",
        "    knn.fit(X_train,y_train)\n",
        "    pred_i = knn.predict(X_test)\n",
        "    error_rate.append(np.mean(pred_i != y_test))"
      ],
      "execution_count": 66,
      "outputs": []
    },
    {
      "cell_type": "code",
      "metadata": {
        "id": "qbSO3AwNfof1",
        "colab_type": "code",
        "colab": {
          "base_uri": "https://localhost:8080/",
          "height": 444
        },
        "outputId": "558b72e7-7e0c-4dac-8d3d-fef745030a8d"
      },
      "source": [
        "plt.figure(figsize=(10,6))\n",
        "plt.plot(range(1,10),error_rate,color='blue', linestyle='dashed', marker='o',\n",
        "         markerfacecolor='red', markersize=10)\n",
        "plt.title('Error Rate vs. K Value')\n",
        "plt.xlabel('K')\n",
        "plt.ylabel('Error Rate')"
      ],
      "execution_count": 67,
      "outputs": [
        {
          "output_type": "execute_result",
          "data": {
            "text/plain": [
              "Text(0, 0.5, 'Error Rate')"
            ]
          },
          "metadata": {
            "tags": []
          },
          "execution_count": 67
        },
        {
          "output_type": "display_data",
          "data": {
            "image/png": "[encoded data removed]",
            "text/plain": [
              "<Figure size 720x432 with 1 Axes>"
            ]
          },
          "metadata": {
            "tags": [],
            "needs_background": "light"
          }
        }
      ]
    },
    {
      "cell_type": "code",
      "metadata": {
        "id": "j0a7RHOjfVsd",
        "colab_type": "code",
        "colab": {}
      },
      "source": [
        "import numpy as np\n",
        "import pandas as pd\n",
        "from sklearn.ensemble import RandomForestClassifier\n",
        "from sklearn.model_selection import train_test_split\n",
        "from sklearn.metrics import recall_score"
      ],
      "execution_count": 68,
      "outputs": []
    },
    {
      "cell_type": "code",
      "metadata": {
        "id": "fqS9okYCgX5w",
        "colab_type": "code",
        "colab": {
          "base_uri": "https://localhost:8080/",
          "height": 302
        },
        "outputId": "16637a81-0df2-4eee-cfb4-cd5527da1c8c"
      },
      "source": [
        "data = pd.get_dummies(clean_tweets_ncw)\n",
        "data.iloc[0]"
      ],
      "execution_count": 69,
      "outputs": [
        {
          "output_type": "execute_result",
          "data": {
            "text/plain": [
              "cases               554\n",
              "covid19_19            0\n",
              "covid19_cases         0\n",
              "covid19_china         0\n",
              "covid19_corona        0\n",
              "covid19_covid         0\n",
              "covid19_covid19       1\n",
              "covid19_deaths        0\n",
              "covid19_indias        0\n",
              "covid19_lakh          0\n",
              "covid19_million       0\n",
              "covid19_new           0\n",
              "covid19_positive      0\n",
              "covid19_tally         0\n",
              "covid19_updates       0\n",
              "covid19_vaccine       0\n",
              "Name: 0, dtype: int64"
            ]
          },
          "metadata": {
            "tags": []
          },
          "execution_count": 69
        }
      ]
    },
    {
      "cell_type": "code",
      "metadata": {
        "id": "Drh_HjbmgbLa",
        "colab_type": "code",
        "colab": {
          "base_uri": "https://localhost:8080/",
          "height": 67
        },
        "outputId": "730e127f-416b-4e8d-d5d8-f84cff57fefb"
      },
      "source": [
        "data.covid19_cases.value_counts()"
      ],
      "execution_count": 70,
      "outputs": [
        {
          "output_type": "execute_result",
          "data": {
            "text/plain": [
              "0    14\n",
              "1     1\n",
              "Name: covid19_cases, dtype: int64"
            ]
          },
          "metadata": {
            "tags": []
          },
          "execution_count": 70
        }
      ]
    },
    {
      "cell_type": "code",
      "metadata": {
        "id": "j-YKHaR_gfTO",
        "colab_type": "code",
        "colab": {}
      },
      "source": [
        "data = data[~data.cases.isnull()]"
      ],
      "execution_count": 71,
      "outputs": []
    },
    {
      "cell_type": "markdown",
      "metadata": {
        "id": "EFg7XznXgil2",
        "colab_type": "text"
      },
      "source": [
        "**Random Forest**"
      ]
    },
    {
      "cell_type": "code",
      "metadata": {
        "id": "NNCWMxrFgmGf",
        "colab_type": "code",
        "colab": {}
      },
      "source": [
        "from sklearn.ensemble import RandomForestClassifier"
      ],
      "execution_count": 72,
      "outputs": []
    },
    {
      "cell_type": "code",
      "metadata": {
        "id": "F-o6aKMagqeO",
        "colab_type": "code",
        "colab": {}
      },
      "source": [
        "clf=RandomForestClassifier(random_state=56)"
      ],
      "execution_count": 74,
      "outputs": []
    },
    {
      "cell_type": "code",
      "metadata": {
        "id": "qpKvnYYAgu2H",
        "colab_type": "code",
        "colab": {
          "base_uri": "https://localhost:8080/",
          "height": 151
        },
        "outputId": "fb84563a-d657-4c33-cd8b-20bf32a14eeb"
      },
      "source": [
        "clf.fit(X_train,y_train)"
      ],
      "execution_count": 75,
      "outputs": [
        {
          "output_type": "execute_result",
          "data": {
            "text/plain": [
              "RandomForestClassifier(bootstrap=True, ccp_alpha=0.0, class_weight=None,\n",
              "                       criterion='gini', max_depth=None, max_features='auto',\n",
              "                       max_leaf_nodes=None, max_samples=None,\n",
              "                       min_impurity_decrease=0.0, min_impurity_split=None,\n",
              "                       min_samples_leaf=1, min_samples_split=2,\n",
              "                       min_weight_fraction_leaf=0.0, n_estimators=100,\n",
              "                       n_jobs=None, oob_score=False, random_state=56, verbose=0,\n",
              "                       warm_start=False)"
            ]
          },
          "metadata": {
            "tags": []
          },
          "execution_count": 75
        }
      ]
    },
    {
      "cell_type": "code",
      "metadata": {
        "id": "AmqPR_BXgxjg",
        "colab_type": "code",
        "colab": {
          "base_uri": "https://localhost:8080/",
          "height": 34
        },
        "outputId": "e185dafd-d2e4-42c9-9b15-a9bc516ab001"
      },
      "source": [
        "clf.score(X_train,y_train)"
      ],
      "execution_count": 76,
      "outputs": [
        {
          "output_type": "execute_result",
          "data": {
            "text/plain": [
              "1.0"
            ]
          },
          "metadata": {
            "tags": []
          },
          "execution_count": 76
        }
      ]
    },
    {
      "cell_type": "code",
      "metadata": {
        "id": "kKoONwodg0P-",
        "colab_type": "code",
        "colab": {}
      },
      "source": [
        "test_predict=clf.predict(X_test)"
      ],
      "execution_count": 77,
      "outputs": []
    },
    {
      "cell_type": "code",
      "metadata": {
        "id": "BaBQyKbAg1UA",
        "colab_type": "code",
        "colab": {}
      },
      "source": [
        "from sklearn.metrics import accuracy_score"
      ],
      "execution_count": 78,
      "outputs": []
    },
    {
      "cell_type": "code",
      "metadata": {
        "id": "b28mKifSg6BK",
        "colab_type": "code",
        "colab": {
          "base_uri": "https://localhost:8080/",
          "height": 34
        },
        "outputId": "65f392a1-c01e-4357-8362-01c328670fa4"
      },
      "source": [
        "accuracy_score(test_predict,y_test)"
      ],
      "execution_count": 79,
      "outputs": [
        {
          "output_type": "execute_result",
          "data": {
            "text/plain": [
              "0.0"
            ]
          },
          "metadata": {
            "tags": []
          },
          "execution_count": 79
        }
      ]
    },
    {
      "cell_type": "code",
      "metadata": {
        "id": "EqLi5NE-g9jp",
        "colab_type": "code",
        "colab": {}
      },
      "source": [
        "from sklearn.metrics import precision_score, f1_score, classification_report"
      ],
      "execution_count": 80,
      "outputs": []
    },
    {
      "cell_type": "code",
      "metadata": {
        "id": "7JVQPEXPg_JX",
        "colab_type": "code",
        "colab": {
          "base_uri": "https://localhost:8080/",
          "height": 34
        },
        "outputId": "0115abbd-e40b-4dfa-c70c-e31d57944321"
      },
      "source": [
        "\n",
        "#precision_score(test_predict,y_test)\n",
        "print(\"Precision Score : \",precision_score(test_predict, y_test, \n",
        "                                           pos_label='positive',\n",
        "                                           average='micro'))"
      ],
      "execution_count": 82,
      "outputs": [
        {
          "output_type": "stream",
          "text": [
            "Precision Score :  0.0\n"
          ],
          "name": "stdout"
        }
      ]
    },
    {
      "cell_type": "code",
      "metadata": {
        "id": "fdVdK8CShSlk",
        "colab_type": "code",
        "colab": {
          "base_uri": "https://localhost:8080/",
          "height": 34
        },
        "outputId": "9dd871d2-217e-4b9f-eb7c-40a34f6c422a"
      },
      "source": [
        "#recall_score(test_predict,y_test)\n",
        "print(\"Recall Score : \",recall_score(test_predict, y_test, \n",
        "                                           pos_label='positive',\n",
        "                                           average='micro'))"
      ],
      "execution_count": 83,
      "outputs": [
        {
          "output_type": "stream",
          "text": [
            "Recall Score :  0.0\n"
          ],
          "name": "stdout"
        }
      ]
    },
    {
      "cell_type": "code",
      "metadata": {
        "id": "5g6puOuohXd4",
        "colab_type": "code",
        "colab": {
          "base_uri": "https://localhost:8080/",
          "height": 34
        },
        "outputId": "799c4900-40f3-4895-99be-7ed1a802b7a0"
      },
      "source": [
        "print(\"F1 Score : \",f1_score(test_predict, y_test, \n",
        "                                           pos_label='positive',\n",
        "                                           average='micro'))"
      ],
      "execution_count": 84,
      "outputs": [
        {
          "output_type": "stream",
          "text": [
            "F1 Score :  0.0\n"
          ],
          "name": "stdout"
        }
      ]
    },
    {
      "cell_type": "markdown",
      "metadata": {
        "id": "PtpEYrQcknZF",
        "colab_type": "text"
      },
      "source": [
        "**Naive Bayes**"
      ]
    },
    {
      "cell_type": "code",
      "metadata": {
        "id": "YINL4UQrko8T",
        "colab_type": "code",
        "colab": {}
      },
      "source": [
        "from sklearn.naive_bayes import BernoulliNB,GaussianNB,MultinomialNB"
      ],
      "execution_count": 85,
      "outputs": []
    },
    {
      "cell_type": "code",
      "metadata": {
        "id": "KA7c2YzklA5S",
        "colab_type": "code",
        "colab": {}
      },
      "source": [
        "gnb = BernoulliNB()"
      ],
      "execution_count": 86,
      "outputs": []
    },
    {
      "cell_type": "code",
      "metadata": {
        "id": "021mtQZZlCMU",
        "colab_type": "code",
        "colab": {
          "base_uri": "https://localhost:8080/",
          "height": 34
        },
        "outputId": "6140254e-65cd-486f-b094-b43002f27cc6"
      },
      "source": [
        "gnb.fit(X_train,y_train)"
      ],
      "execution_count": 87,
      "outputs": [
        {
          "output_type": "execute_result",
          "data": {
            "text/plain": [
              "BernoulliNB(alpha=1.0, binarize=0.0, class_prior=None, fit_prior=True)"
            ]
          },
          "metadata": {
            "tags": []
          },
          "execution_count": 87
        }
      ]
    },
    {
      "cell_type": "code",
      "metadata": {
        "id": "y0STpyq5lFs3",
        "colab_type": "code",
        "colab": {}
      },
      "source": [
        "test_predict=gnb.predict(X_test)"
      ],
      "execution_count": 88,
      "outputs": []
    },
    {
      "cell_type": "code",
      "metadata": {
        "id": "pCTvo0HUlIZb",
        "colab_type": "code",
        "colab": {
          "base_uri": "https://localhost:8080/",
          "height": 34
        },
        "outputId": "75c7fe41-91e3-4963-ca70-26d2c5c2b18b"
      },
      "source": [
        "\n",
        "accuracy_score(test_predict,y_test)"
      ],
      "execution_count": 89,
      "outputs": [
        {
          "output_type": "execute_result",
          "data": {
            "text/plain": [
              "0.0"
            ]
          },
          "metadata": {
            "tags": []
          },
          "execution_count": 89
        }
      ]
    },
    {
      "cell_type": "code",
      "metadata": {
        "id": "u7TxLM0RlLot",
        "colab_type": "code",
        "colab": {
          "base_uri": "https://localhost:8080/",
          "height": 34
        },
        "outputId": "5b9a3c3e-25f1-431a-9117-ae2bef22f2e6"
      },
      "source": [
        "#precision_score(test_predict,y_test)\n",
        "print(\"Precision Score : \",precision_score(test_predict, y_test, \n",
        "                                           pos_label='positive',\n",
        "                                           average='micro'))"
      ],
      "execution_count": 91,
      "outputs": [
        {
          "output_type": "stream",
          "text": [
            "Precision Score :  0.0\n"
          ],
          "name": "stdout"
        }
      ]
    },
    {
      "cell_type": "code",
      "metadata": {
        "id": "-QUNf6B-lS3y",
        "colab_type": "code",
        "colab": {
          "base_uri": "https://localhost:8080/",
          "height": 34
        },
        "outputId": "5f899486-079f-4758-a6a6-1cc87685d298"
      },
      "source": [
        "print(\"Recall Score : \",recall_score(test_predict, y_test, \n",
        "                                           pos_label='positive',\n",
        "                                           average='micro'))"
      ],
      "execution_count": 92,
      "outputs": [
        {
          "output_type": "stream",
          "text": [
            "Recall Score :  0.0\n"
          ],
          "name": "stdout"
        }
      ]
    },
    {
      "cell_type": "code",
      "metadata": {
        "id": "uzpNtN6SlOD7",
        "colab_type": "code",
        "colab": {
          "base_uri": "https://localhost:8080/",
          "height": 34
        },
        "outputId": "6abc7f84-2575-4dd1-a602-4d390386f24a"
      },
      "source": [
        "print(\"F1 Score : \",f1_score(test_predict, y_test, \n",
        "                                           pos_label='positive',\n",
        "                                           average='micro'))"
      ],
      "execution_count": 93,
      "outputs": [
        {
          "output_type": "stream",
          "text": [
            "F1 Score :  0.0\n"
          ],
          "name": "stdout"
        }
      ]
    },
    {
      "cell_type": "markdown",
      "metadata": {
        "id": "_St7re94lcDE",
        "colab_type": "text"
      },
      "source": [
        "**Decision Tree Classifier**"
      ]
    },
    {
      "cell_type": "code",
      "metadata": {
        "id": "PIKWeBNolfKc",
        "colab_type": "code",
        "colab": {}
      },
      "source": [
        "from sklearn import tree\n",
        "\n",
        "model = tree.DecisionTreeClassifier()"
      ],
      "execution_count": 94,
      "outputs": []
    },
    {
      "cell_type": "code",
      "metadata": {
        "id": "w3PPL3DKlhvD",
        "colab_type": "code",
        "colab": {
          "base_uri": "https://localhost:8080/",
          "height": 118
        },
        "outputId": "ed24e699-1574-4333-ac21-fbe3c1c56b5e"
      },
      "source": [
        "\n",
        "model"
      ],
      "execution_count": 95,
      "outputs": [
        {
          "output_type": "execute_result",
          "data": {
            "text/plain": [
              "DecisionTreeClassifier(ccp_alpha=0.0, class_weight=None, criterion='gini',\n",
              "                       max_depth=None, max_features=None, max_leaf_nodes=None,\n",
              "                       min_impurity_decrease=0.0, min_impurity_split=None,\n",
              "                       min_samples_leaf=1, min_samples_split=2,\n",
              "                       min_weight_fraction_leaf=0.0, presort='deprecated',\n",
              "                       random_state=None, splitter='best')"
            ]
          },
          "metadata": {
            "tags": []
          },
          "execution_count": 95
        }
      ]
    },
    {
      "cell_type": "code",
      "metadata": {
        "id": "YOaVphzjlkKe",
        "colab_type": "code",
        "colab": {
          "base_uri": "https://localhost:8080/",
          "height": 118
        },
        "outputId": "7b4a641e-1f61-4513-b1db-c855757b9a5f"
      },
      "source": [
        "model.fit(X_train, y_train)"
      ],
      "execution_count": 96,
      "outputs": [
        {
          "output_type": "execute_result",
          "data": {
            "text/plain": [
              "DecisionTreeClassifier(ccp_alpha=0.0, class_weight=None, criterion='gini',\n",
              "                       max_depth=None, max_features=None, max_leaf_nodes=None,\n",
              "                       min_impurity_decrease=0.0, min_impurity_split=None,\n",
              "                       min_samples_leaf=1, min_samples_split=2,\n",
              "                       min_weight_fraction_leaf=0.0, presort='deprecated',\n",
              "                       random_state=None, splitter='best')"
            ]
          },
          "metadata": {
            "tags": []
          },
          "execution_count": 96
        }
      ]
    },
    {
      "cell_type": "code",
      "metadata": {
        "id": "eKwUp-XvlnzV",
        "colab_type": "code",
        "colab": {
          "base_uri": "https://localhost:8080/",
          "height": 34
        },
        "outputId": "e0783148-b430-42df-9820-24cd6836684b"
      },
      "source": [
        "y_predict = model.predict(X_test)\n",
        "\n",
        "from sklearn.metrics import accuracy_score\n",
        "\n",
        "accuracy_score(y_test, y_predict)"
      ],
      "execution_count": 97,
      "outputs": [
        {
          "output_type": "execute_result",
          "data": {
            "text/plain": [
              "0.0"
            ]
          },
          "metadata": {
            "tags": []
          },
          "execution_count": 97
        }
      ]
    },
    {
      "cell_type": "code",
      "metadata": {
        "id": "IeS8WIgTlqWw",
        "colab_type": "code",
        "colab": {
          "base_uri": "https://localhost:8080/",
          "height": 225
        },
        "outputId": "1936e36d-2ab6-47f0-c9af-f7de7ddc4c86"
      },
      "source": [
        "from sklearn.metrics import confusion_matrix\n",
        "\n",
        "pd.DataFrame(\n",
        "    confusion_matrix( test_predict,y_test)\n",
        ")"
      ],
      "execution_count": 98,
      "outputs": [
        {
          "output_type": "execute_result",
          "data": {
            "text/html": [
              "<div>\n",
              "<style scoped>\n",
              "    .dataframe tbody tr th:only-of-type {\n",
              "        vertical-align: middle;\n",
              "    }\n",
              "\n",
              "    .dataframe tbody tr th {\n",
              "        vertical-align: top;\n",
              "    }\n",
              "\n",
              "    .dataframe thead th {\n",
              "        text-align: right;\n",
              "    }\n",
              "</style>\n",
              "<table border=\"1\" class=\"dataframe\">\n",
              "  <thead>\n",
              "    <tr style=\"text-align: right;\">\n",
              "      <th></th>\n",
              "      <th>0</th>\n",
              "      <th>1</th>\n",
              "      <th>2</th>\n",
              "      <th>3</th>\n",
              "      <th>4</th>\n",
              "      <th>5</th>\n",
              "    </tr>\n",
              "  </thead>\n",
              "  <tbody>\n",
              "    <tr>\n",
              "      <th>0</th>\n",
              "      <td>0</td>\n",
              "      <td>0</td>\n",
              "      <td>0</td>\n",
              "      <td>0</td>\n",
              "      <td>0</td>\n",
              "      <td>0</td>\n",
              "    </tr>\n",
              "    <tr>\n",
              "      <th>1</th>\n",
              "      <td>0</td>\n",
              "      <td>0</td>\n",
              "      <td>0</td>\n",
              "      <td>0</td>\n",
              "      <td>0</td>\n",
              "      <td>0</td>\n",
              "    </tr>\n",
              "    <tr>\n",
              "      <th>2</th>\n",
              "      <td>0</td>\n",
              "      <td>0</td>\n",
              "      <td>0</td>\n",
              "      <td>0</td>\n",
              "      <td>0</td>\n",
              "      <td>0</td>\n",
              "    </tr>\n",
              "    <tr>\n",
              "      <th>3</th>\n",
              "      <td>0</td>\n",
              "      <td>0</td>\n",
              "      <td>0</td>\n",
              "      <td>0</td>\n",
              "      <td>0</td>\n",
              "      <td>0</td>\n",
              "    </tr>\n",
              "    <tr>\n",
              "      <th>4</th>\n",
              "      <td>1</td>\n",
              "      <td>1</td>\n",
              "      <td>1</td>\n",
              "      <td>1</td>\n",
              "      <td>0</td>\n",
              "      <td>1</td>\n",
              "    </tr>\n",
              "    <tr>\n",
              "      <th>5</th>\n",
              "      <td>0</td>\n",
              "      <td>0</td>\n",
              "      <td>0</td>\n",
              "      <td>0</td>\n",
              "      <td>0</td>\n",
              "      <td>0</td>\n",
              "    </tr>\n",
              "  </tbody>\n",
              "</table>\n",
              "</div>"
            ],
            "text/plain": [
              "   0  1  2  3  4  5\n",
              "0  0  0  0  0  0  0\n",
              "1  0  0  0  0  0  0\n",
              "2  0  0  0  0  0  0\n",
              "3  0  0  0  0  0  0\n",
              "4  1  1  1  1  0  1\n",
              "5  0  0  0  0  0  0"
            ]
          },
          "metadata": {
            "tags": []
          },
          "execution_count": 98
        }
      ]
    },
    {
      "cell_type": "code",
      "metadata": {
        "id": "V6ZGcZOHlt-i",
        "colab_type": "code",
        "colab": {
          "base_uri": "https://localhost:8080/",
          "height": 34
        },
        "outputId": "19cf1d06-14cb-4d6e-afad-17e637d7308a"
      },
      "source": [
        "print(\"Precision Score : \",precision_score(test_predict, y_test, \n",
        "                                           pos_label='positive',\n",
        "                                           average='micro'))"
      ],
      "execution_count": 99,
      "outputs": [
        {
          "output_type": "stream",
          "text": [
            "Precision Score :  0.0\n"
          ],
          "name": "stdout"
        }
      ]
    },
    {
      "cell_type": "code",
      "metadata": {
        "id": "wIGNaQvClxqO",
        "colab_type": "code",
        "colab": {
          "base_uri": "https://localhost:8080/",
          "height": 34
        },
        "outputId": "c5b80e14-61aa-4d1b-f574-308ed3881962"
      },
      "source": [
        "print(\"Recall Score : \",recall_score(test_predict, y_test, \n",
        "                                           pos_label='positive',\n",
        "                                           average='micro'))"
      ],
      "execution_count": 100,
      "outputs": [
        {
          "output_type": "stream",
          "text": [
            "Recall Score :  0.0\n"
          ],
          "name": "stdout"
        }
      ]
    },
    {
      "cell_type": "code",
      "metadata": {
        "id": "j3oQMdz-l1en",
        "colab_type": "code",
        "colab": {
          "base_uri": "https://localhost:8080/",
          "height": 34
        },
        "outputId": "f0fd2ad2-a0d3-45ca-f955-0b9e44467523"
      },
      "source": [
        "\n",
        "print(\"f1 Score : \",f1_score(test_predict, y_test, \n",
        "                                           pos_label='positive',\n",
        "                                           average='micro'))"
      ],
      "execution_count": 101,
      "outputs": [
        {
          "output_type": "stream",
          "text": [
            "f1 Score :  0.0\n"
          ],
          "name": "stdout"
        }
      ]
    }
  ]
}